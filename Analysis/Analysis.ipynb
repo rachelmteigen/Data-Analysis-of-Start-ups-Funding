{
 "cells": [
  {
   "cell_type": "markdown",
   "metadata": {},
   "source": [
    "# The Art of Insight\n",
    "\n",
    "\n",
    "As a place to start, let's investigate the following:\n",
    "\n",
    "1. What is the average \"shelf-life\" of a start-up?\n",
    "2. What do **average investment amounts** look like?\n",
    "3. Is there a correlation between shelf-life and awarded capital? Between shelf-life and firm?\n"
   ]
  },
  {
   "cell_type": "markdown",
   "metadata": {},
   "source": [
    "## Startup Shelf-Life\n",
    "\n",
    "Let's start by considering shelf-life, and in particular, with a definition:\n",
    "\n",
    "> The **shelf life** of a startup is its lifetime, defined as the time delta between its **Closed Date** and **Founding Date**. Currently operating startups are taken to have a shelf-life equal to the time delta between today and their founding dates. \n"
   ]
  },
  {
   "cell_type": "code",
   "execution_count": 1,
   "metadata": {
    "collapsed": true
   },
   "outputs": [],
   "source": [
    "# Best to define/document this here in code—we'll use it below\n",
    "columns = [\n",
    "    'Company Name',\n",
    "    'Founded Date',\n",
    "    'Closed Date',\n",
    "    'Status',\n",
    "    'Headquarters Location',\n",
    "    'Total Funding Amount',\n",
    "    'Last Funding Amount'\n",
    "]"
   ]
  },
  {
   "cell_type": "markdown",
   "metadata": {},
   "source": [
    "I'm including `Headquarters Location` because I'm curious as to potential correlations between geographical region and shelf-life."
   ]
  },
  {
   "cell_type": "markdown",
   "metadata": {},
   "source": [
    "Now that we've defined terms and know what figures we need, we can sketch a plan:\n",
    "\n",
    "1. Read and reshape `companies.csv` (Pandas)\n",
    "2. Map **Founded Date** and **Closed Date** Series into [Arrow](http://arrow.readthedocs.io/en/latest/) or `datetime` objects to facilitate timedelta arithmetic.\n",
    "3. Use **Founded Date** and **Closed Date** to create a **shelf_life** Series.\n",
    "\n",
    "After generating the `shelf_life` tuples, we can explore the following:\n",
    "\n",
    "1. Does shelf-life correlate with total funding?\n",
    "2. Does shelf-life correlate with last funding amount?\n",
    "3. Is there a relationship between the length of time between last funding date and closing and the last funding amount?\n",
    "\n",
    "This last one attempts to proxy the question: For firms that close, does the size of their last funding round predict how soon they will close?"
   ]
  },
  {
   "cell_type": "code",
   "execution_count": 2,
   "metadata": {},
   "outputs": [
    {
     "data": {
      "text/html": [
       "<div>\n",
       "<style>\n",
       "    .dataframe thead tr:only-child th {\n",
       "        text-align: right;\n",
       "    }\n",
       "\n",
       "    .dataframe thead th {\n",
       "        text-align: left;\n",
       "    }\n",
       "\n",
       "    .dataframe tbody tr th {\n",
       "        vertical-align: top;\n",
       "    }\n",
       "</style>\n",
       "<table border=\"1\" class=\"dataframe\">\n",
       "  <thead>\n",
       "    <tr style=\"text-align: right;\">\n",
       "      <th></th>\n",
       "      <th>Company Name</th>\n",
       "      <th>Founded Date</th>\n",
       "      <th>Closed Date</th>\n",
       "      <th>Status</th>\n",
       "      <th>Headquarters Location</th>\n",
       "      <th>Total Funding Amount</th>\n",
       "      <th>Last Funding Amount</th>\n",
       "    </tr>\n",
       "  </thead>\n",
       "  <tbody>\n",
       "    <tr>\n",
       "      <th>0</th>\n",
       "      <td>Wokrr</td>\n",
       "      <td>1/1/16</td>\n",
       "      <td>NaN</td>\n",
       "      <td>Closed</td>\n",
       "      <td>San Jose, California, United States</td>\n",
       "      <td>1111</td>\n",
       "      <td>1111</td>\n",
       "    </tr>\n",
       "    <tr>\n",
       "      <th>1</th>\n",
       "      <td>BUILT IMAGES</td>\n",
       "      <td>1/1/12</td>\n",
       "      <td>NaN</td>\n",
       "      <td>Operating</td>\n",
       "      <td>San Clemente, California, United States</td>\n",
       "      <td>250000</td>\n",
       "      <td>250000</td>\n",
       "    </tr>\n",
       "    <tr>\n",
       "      <th>2</th>\n",
       "      <td>Dick or Bro</td>\n",
       "      <td>1/1/12</td>\n",
       "      <td>NaN</td>\n",
       "      <td>Closed</td>\n",
       "      <td>Los Angeles, California, United States</td>\n",
       "      <td>150000</td>\n",
       "      <td>150000</td>\n",
       "    </tr>\n",
       "    <tr>\n",
       "      <th>3</th>\n",
       "      <td>StoryWorth</td>\n",
       "      <td>11/1/12</td>\n",
       "      <td>NaN</td>\n",
       "      <td>Operating</td>\n",
       "      <td>San Francisco, California, United States</td>\n",
       "      <td>167000</td>\n",
       "      <td>167000</td>\n",
       "    </tr>\n",
       "    <tr>\n",
       "      <th>4</th>\n",
       "      <td>Ethonova</td>\n",
       "      <td>1/1/12</td>\n",
       "      <td>NaN</td>\n",
       "      <td>Operating</td>\n",
       "      <td>San Francisco, California, United States</td>\n",
       "      <td>40000</td>\n",
       "      <td>40000</td>\n",
       "    </tr>\n",
       "    <tr>\n",
       "      <th>5</th>\n",
       "      <td>Harbor BioSciences</td>\n",
       "      <td>1/1/12</td>\n",
       "      <td>NaN</td>\n",
       "      <td>Operating</td>\n",
       "      <td>San Diego, California, United States</td>\n",
       "      <td>2825000</td>\n",
       "      <td>2825000</td>\n",
       "    </tr>\n",
       "    <tr>\n",
       "      <th>6</th>\n",
       "      <td>Appsembler</td>\n",
       "      <td>1/1/12</td>\n",
       "      <td>NaN</td>\n",
       "      <td>Operating</td>\n",
       "      <td>Somerville, Massachusetts, United States</td>\n",
       "      <td>118000</td>\n",
       "      <td>118000</td>\n",
       "    </tr>\n",
       "    <tr>\n",
       "      <th>7</th>\n",
       "      <td>Autocosta</td>\n",
       "      <td>4/1/12</td>\n",
       "      <td>NaN</td>\n",
       "      <td>Operating</td>\n",
       "      <td>Los Angeles, California, United States</td>\n",
       "      <td>1100000</td>\n",
       "      <td>1100000</td>\n",
       "    </tr>\n",
       "    <tr>\n",
       "      <th>8</th>\n",
       "      <td>Baboo</td>\n",
       "      <td>1/1/12</td>\n",
       "      <td>NaN</td>\n",
       "      <td>Operating</td>\n",
       "      <td>Los Angeles, California, United States</td>\n",
       "      <td>250000</td>\n",
       "      <td>250000</td>\n",
       "    </tr>\n",
       "    <tr>\n",
       "      <th>9</th>\n",
       "      <td>BindHQ</td>\n",
       "      <td>1/1/12</td>\n",
       "      <td>NaN</td>\n",
       "      <td>Operating</td>\n",
       "      <td>Tustin, California, United States</td>\n",
       "      <td>500000</td>\n",
       "      <td>500000</td>\n",
       "    </tr>\n",
       "    <tr>\n",
       "      <th>10</th>\n",
       "      <td>Copyrightys</td>\n",
       "      <td>1/1/12</td>\n",
       "      <td>NaN</td>\n",
       "      <td>Operating</td>\n",
       "      <td>Palo Alto, California, United States</td>\n",
       "      <td>10000</td>\n",
       "      <td>10000</td>\n",
       "    </tr>\n",
       "    <tr>\n",
       "      <th>11</th>\n",
       "      <td>CU Appraisal Services</td>\n",
       "      <td>1/1/12</td>\n",
       "      <td>NaN</td>\n",
       "      <td>Operating</td>\n",
       "      <td>Fairborn, Ohio, United States</td>\n",
       "      <td>600000</td>\n",
       "      <td>600000</td>\n",
       "    </tr>\n",
       "    <tr>\n",
       "      <th>12</th>\n",
       "      <td>CureSquare</td>\n",
       "      <td>1/1/12</td>\n",
       "      <td>NaN</td>\n",
       "      <td>Closed</td>\n",
       "      <td>Chicago, Illinois, United States</td>\n",
       "      <td>375000</td>\n",
       "      <td>375000</td>\n",
       "    </tr>\n",
       "    <tr>\n",
       "      <th>13</th>\n",
       "      <td>GLADvertising.com</td>\n",
       "      <td>1/1/12</td>\n",
       "      <td>NaN</td>\n",
       "      <td>Operating</td>\n",
       "      <td>Northbrook, Illinois, United States</td>\n",
       "      <td>150000</td>\n",
       "      <td>150000</td>\n",
       "    </tr>\n",
       "    <tr>\n",
       "      <th>14</th>\n",
       "      <td>iBidGames</td>\n",
       "      <td>4/20/12</td>\n",
       "      <td>NaN</td>\n",
       "      <td>Operating</td>\n",
       "      <td>Las Vegas, Nevada, United States</td>\n",
       "      <td>500000</td>\n",
       "      <td>500000</td>\n",
       "    </tr>\n",
       "    <tr>\n",
       "      <th>15</th>\n",
       "      <td>ishBowl</td>\n",
       "      <td>1/1/12</td>\n",
       "      <td>NaN</td>\n",
       "      <td>Closed</td>\n",
       "      <td>San Francisco, California, United States</td>\n",
       "      <td>25000</td>\n",
       "      <td>25000</td>\n",
       "    </tr>\n",
       "    <tr>\n",
       "      <th>16</th>\n",
       "      <td>KnoCo</td>\n",
       "      <td>1/1/12</td>\n",
       "      <td>NaN</td>\n",
       "      <td>Operating</td>\n",
       "      <td>Memphis, Tennessee, United States</td>\n",
       "      <td>15000</td>\n",
       "      <td>15000</td>\n",
       "    </tr>\n",
       "    <tr>\n",
       "      <th>17</th>\n",
       "      <td>LXSN</td>\n",
       "      <td>6/21/12</td>\n",
       "      <td>NaN</td>\n",
       "      <td>Operating</td>\n",
       "      <td>Palo Alto, California, United States</td>\n",
       "      <td>25000</td>\n",
       "      <td>25000</td>\n",
       "    </tr>\n",
       "    <tr>\n",
       "      <th>18</th>\n",
       "      <td>Queue</td>\n",
       "      <td>1/1/12</td>\n",
       "      <td>NaN</td>\n",
       "      <td>Was Acquired</td>\n",
       "      <td>Sacramento, California, United States</td>\n",
       "      <td>400000</td>\n",
       "      <td>400000</td>\n",
       "    </tr>\n",
       "    <tr>\n",
       "      <th>19</th>\n",
       "      <td>Radio Runt Inc.</td>\n",
       "      <td>1/1/12</td>\n",
       "      <td>NaN</td>\n",
       "      <td>Operating</td>\n",
       "      <td>Bellevue, Washington, United States</td>\n",
       "      <td>1000000</td>\n",
       "      <td>1000000</td>\n",
       "    </tr>\n",
       "  </tbody>\n",
       "</table>\n",
       "</div>"
      ],
      "text/plain": [
       "             Company Name Founded Date Closed Date        Status  \\\n",
       "0                   Wokrr       1/1/16         NaN        Closed   \n",
       "1            BUILT IMAGES       1/1/12         NaN     Operating   \n",
       "2             Dick or Bro       1/1/12         NaN        Closed   \n",
       "3              StoryWorth      11/1/12         NaN     Operating   \n",
       "4                Ethonova       1/1/12         NaN     Operating   \n",
       "5      Harbor BioSciences       1/1/12         NaN     Operating   \n",
       "6              Appsembler       1/1/12         NaN     Operating   \n",
       "7               Autocosta       4/1/12         NaN     Operating   \n",
       "8                   Baboo       1/1/12         NaN     Operating   \n",
       "9                  BindHQ       1/1/12         NaN     Operating   \n",
       "10            Copyrightys       1/1/12         NaN     Operating   \n",
       "11  CU Appraisal Services       1/1/12         NaN     Operating   \n",
       "12             CureSquare       1/1/12         NaN        Closed   \n",
       "13      GLADvertising.com       1/1/12         NaN     Operating   \n",
       "14              iBidGames      4/20/12         NaN     Operating   \n",
       "15                ishBowl       1/1/12         NaN        Closed   \n",
       "16                  KnoCo       1/1/12         NaN     Operating   \n",
       "17                   LXSN      6/21/12         NaN     Operating   \n",
       "18                  Queue       1/1/12         NaN  Was Acquired   \n",
       "19        Radio Runt Inc.       1/1/12         NaN     Operating   \n",
       "\n",
       "                       Headquarters Location  Total Funding Amount  \\\n",
       "0        San Jose, California, United States                  1111   \n",
       "1    San Clemente, California, United States                250000   \n",
       "2     Los Angeles, California, United States                150000   \n",
       "3   San Francisco, California, United States                167000   \n",
       "4   San Francisco, California, United States                 40000   \n",
       "5       San Diego, California, United States               2825000   \n",
       "6   Somerville, Massachusetts, United States                118000   \n",
       "7     Los Angeles, California, United States               1100000   \n",
       "8     Los Angeles, California, United States                250000   \n",
       "9          Tustin, California, United States                500000   \n",
       "10      Palo Alto, California, United States                 10000   \n",
       "11             Fairborn, Ohio, United States                600000   \n",
       "12          Chicago, Illinois, United States                375000   \n",
       "13       Northbrook, Illinois, United States                150000   \n",
       "14          Las Vegas, Nevada, United States                500000   \n",
       "15  San Francisco, California, United States                 25000   \n",
       "16         Memphis, Tennessee, United States                 15000   \n",
       "17      Palo Alto, California, United States                 25000   \n",
       "18     Sacramento, California, United States                400000   \n",
       "19       Bellevue, Washington, United States               1000000   \n",
       "\n",
       "    Last Funding Amount  \n",
       "0                  1111  \n",
       "1                250000  \n",
       "2                150000  \n",
       "3                167000  \n",
       "4                 40000  \n",
       "5               2825000  \n",
       "6                118000  \n",
       "7               1100000  \n",
       "8                250000  \n",
       "9                500000  \n",
       "10                10000  \n",
       "11               600000  \n",
       "12               375000  \n",
       "13               150000  \n",
       "14               500000  \n",
       "15                25000  \n",
       "16                15000  \n",
       "17                25000  \n",
       "18               400000  \n",
       "19              1000000  "
      ]
     },
     "execution_count": 2,
     "metadata": {},
     "output_type": "execute_result"
    }
   ],
   "source": [
    "# Let's get started...\n",
    "from os import getcwd\n",
    "from os.path import join\n",
    "import pandas as pd\n",
    "\n",
    "companies = pd.read_csv(join(getcwd(), '../data', 'companies.csv'), encoding='ISO-8859-1')\n",
    "df = companies[columns]\n",
    "df.head(20)"
   ]
  },
  {
   "cell_type": "markdown",
   "metadata": {},
   "source": [
    "Next, we need to turn those **Founded Date** and **Closed Date** columns into something useful, using [Arrow](http://arrow.readthedocs.io/en/latest/)."
   ]
  },
  {
   "cell_type": "code",
   "execution_count": 3,
   "metadata": {},
   "outputs": [
    {
     "name": "stdout",
     "output_type": "stream",
     "text": [
      "Requirement already satisfied: arrow in /anaconda/lib/python3.6/site-packages\r\n",
      "Requirement already satisfied: python-dateutil in /anaconda/lib/python3.6/site-packages (from arrow)\r\n",
      "Requirement already satisfied: six>=1.5 in /anaconda/lib/python3.6/site-packages (from python-dateutil->arrow)\r\n"
     ]
    }
   ],
   "source": [
    "# Install Arrow, if you haven't already\n",
    "!pip install arrow"
   ]
  },
  {
   "cell_type": "markdown",
   "metadata": {},
   "source": [
    "Next, we'll have to convert every string in **Founded Date** into an Arrow object, to facilitate datetime calculations.\n"
   ]
  },
  {
   "cell_type": "code",
   "execution_count": 4,
   "metadata": {},
   "outputs": [
    {
     "name": "stderr",
     "output_type": "stream",
     "text": [
      "/anaconda/lib/python3.6/site-packages/ipykernel_launcher.py:2: SettingWithCopyWarning: \n",
      "A value is trying to be set on a copy of a slice from a DataFrame.\n",
      "Try using .loc[row_indexer,col_indexer] = value instead\n",
      "\n",
      "See the caveats in the documentation: http://pandas.pydata.org/pandas-docs/stable/indexing.html#indexing-view-versus-copy\n",
      "  \n"
     ]
    }
   ],
   "source": [
    "import arrow\n",
    "df['Founded Date'] = df['Founded Date'].apply(lambda date_string: arrow.get(date_string, 'M/D/YY'))"
   ]
  },
  {
   "cell_type": "code",
   "execution_count": 5,
   "metadata": {},
   "outputs": [
    {
     "data": {
      "text/html": [
       "<div>\n",
       "<style>\n",
       "    .dataframe thead tr:only-child th {\n",
       "        text-align: right;\n",
       "    }\n",
       "\n",
       "    .dataframe thead th {\n",
       "        text-align: left;\n",
       "    }\n",
       "\n",
       "    .dataframe tbody tr th {\n",
       "        vertical-align: top;\n",
       "    }\n",
       "</style>\n",
       "<table border=\"1\" class=\"dataframe\">\n",
       "  <thead>\n",
       "    <tr style=\"text-align: right;\">\n",
       "      <th></th>\n",
       "      <th>Company Name</th>\n",
       "      <th>Founded Date</th>\n",
       "    </tr>\n",
       "  </thead>\n",
       "  <tbody>\n",
       "    <tr>\n",
       "      <th>0</th>\n",
       "      <td>Wokrr</td>\n",
       "      <td>2016-01-01T00:00:00+00:00</td>\n",
       "    </tr>\n",
       "    <tr>\n",
       "      <th>1</th>\n",
       "      <td>BUILT IMAGES</td>\n",
       "      <td>2012-01-01T00:00:00+00:00</td>\n",
       "    </tr>\n",
       "  </tbody>\n",
       "</table>\n",
       "</div>"
      ],
      "text/plain": [
       "   Company Name               Founded Date\n",
       "0         Wokrr  2016-01-01T00:00:00+00:00\n",
       "1  BUILT IMAGES  2012-01-01T00:00:00+00:00"
      ]
     },
     "execution_count": 5,
     "metadata": {},
     "output_type": "execute_result"
    }
   ],
   "source": [
    "df[['Company Name', 'Founded Date']].head(2)"
   ]
  },
  {
   "cell_type": "markdown",
   "metadata": {},
   "source": [
    "At a glance, less human-readable, but much easier to manipulate.\n",
    "\n",
    "Let's do the same with the **Closed Date** Series."
   ]
  },
  {
   "cell_type": "code",
   "execution_count": 6,
   "metadata": {},
   "outputs": [
    {
     "name": "stderr",
     "output_type": "stream",
     "text": [
      "/anaconda/lib/python3.6/site-packages/ipykernel_launcher.py:9: SettingWithCopyWarning: \n",
      "A value is trying to be set on a copy of a slice from a DataFrame.\n",
      "Try using .loc[row_indexer,col_indexer] = value instead\n",
      "\n",
      "See the caveats in the documentation: http://pandas.pydata.org/pandas-docs/stable/indexing.html#indexing-view-versus-copy\n",
      "  if __name__ == '__main__':\n"
     ]
    }
   ],
   "source": [
    "from math import isnan\n",
    "\n",
    "def to_arrow(date_str):\n",
    "    if type(date_str) is str:\n",
    "        return arrow.get(date_str, 'M/D/YY')\n",
    "    elif isnan(date_str):\n",
    "        return arrow.now()\n",
    "    \n",
    "df['Closed Date'] = df['Closed Date'].apply(to_arrow)"
   ]
  },
  {
   "cell_type": "code",
   "execution_count": 7,
   "metadata": {},
   "outputs": [
    {
     "data": {
      "text/html": [
       "<div>\n",
       "<style>\n",
       "    .dataframe thead tr:only-child th {\n",
       "        text-align: right;\n",
       "    }\n",
       "\n",
       "    .dataframe thead th {\n",
       "        text-align: left;\n",
       "    }\n",
       "\n",
       "    .dataframe tbody tr th {\n",
       "        vertical-align: top;\n",
       "    }\n",
       "</style>\n",
       "<table border=\"1\" class=\"dataframe\">\n",
       "  <thead>\n",
       "    <tr style=\"text-align: right;\">\n",
       "      <th></th>\n",
       "      <th>Company Name</th>\n",
       "      <th>Closed Date</th>\n",
       "    </tr>\n",
       "  </thead>\n",
       "  <tbody>\n",
       "    <tr>\n",
       "      <th>0</th>\n",
       "      <td>Wokrr</td>\n",
       "      <td>2017-12-21T10:11:57.070826-08:00</td>\n",
       "    </tr>\n",
       "    <tr>\n",
       "      <th>1</th>\n",
       "      <td>BUILT IMAGES</td>\n",
       "      <td>2017-12-21T10:11:57.071311-08:00</td>\n",
       "    </tr>\n",
       "  </tbody>\n",
       "</table>\n",
       "</div>"
      ],
      "text/plain": [
       "   Company Name                       Closed Date\n",
       "0         Wokrr  2017-12-21T10:11:57.070826-08:00\n",
       "1  BUILT IMAGES  2017-12-21T10:11:57.071311-08:00"
      ]
     },
     "execution_count": 7,
     "metadata": {},
     "output_type": "execute_result"
    }
   ],
   "source": [
    "df[['Company Name', 'Closed Date']].head(2)"
   ]
  },
  {
   "cell_type": "markdown",
   "metadata": {},
   "source": [
    "That yields everything we need to calculate the difference between **Closed Date** and **Founded Date**. Recall that we wanted to include the **Status** for each firm in the reported shelf-life. \n"
   ]
  },
  {
   "cell_type": "code",
   "execution_count": 8,
   "metadata": {
    "collapsed": true
   },
   "outputs": [],
   "source": [
    "def shelf_life(closed, founded):\n",
    "    return closed - founded\n",
    "\n",
    "\n",
    "def reported_shelf_life(shelf_life, status):\n",
    "    return shelf_life, status"
   ]
  },
  {
   "cell_type": "markdown",
   "metadata": {},
   "source": [
    "...And then use them:"
   ]
  },
  {
   "cell_type": "code",
   "execution_count": 9,
   "metadata": {
    "collapsed": true
   },
   "outputs": [],
   "source": [
    "shelf_lives = [shelf_life(closed, founded) for closed, founded in zip(df['Closed Date'], df['Founded Date'])]\n",
    "reported = [reported_shelf_life(shelf_life, status) for shelf_life, status in zip(shelf_lives, df['Status'])]"
   ]
  },
  {
   "cell_type": "markdown",
   "metadata": {},
   "source": [
    "Let's dig in."
   ]
  },
  {
   "cell_type": "code",
   "execution_count": 10,
   "metadata": {},
   "outputs": [
    {
     "data": {
      "text/html": [
       "<div>\n",
       "<style>\n",
       "    .dataframe thead tr:only-child th {\n",
       "        text-align: right;\n",
       "    }\n",
       "\n",
       "    .dataframe thead th {\n",
       "        text-align: left;\n",
       "    }\n",
       "\n",
       "    .dataframe tbody tr th {\n",
       "        vertical-align: top;\n",
       "    }\n",
       "</style>\n",
       "<table border=\"1\" class=\"dataframe\">\n",
       "  <thead>\n",
       "    <tr style=\"text-align: right;\">\n",
       "      <th></th>\n",
       "      <th>shelf_life</th>\n",
       "    </tr>\n",
       "  </thead>\n",
       "  <tbody>\n",
       "    <tr>\n",
       "      <th>count</th>\n",
       "      <td>8664</td>\n",
       "    </tr>\n",
       "    <tr>\n",
       "      <th>mean</th>\n",
       "      <td>1488 days 11:44:17.037300</td>\n",
       "    </tr>\n",
       "    <tr>\n",
       "      <th>std</th>\n",
       "      <td>493 days 10:20:18.375298</td>\n",
       "    </tr>\n",
       "    <tr>\n",
       "      <th>min</th>\n",
       "      <td>0 days 00:00:00</td>\n",
       "    </tr>\n",
       "    <tr>\n",
       "      <th>25%</th>\n",
       "      <td>1085 days 18:11:57.585779</td>\n",
       "    </tr>\n",
       "    <tr>\n",
       "      <th>50%</th>\n",
       "      <td>1450 days 18:11:57.725364</td>\n",
       "    </tr>\n",
       "    <tr>\n",
       "      <th>75%</th>\n",
       "      <td>1815 days 18:11:57.767609</td>\n",
       "    </tr>\n",
       "    <tr>\n",
       "      <th>max</th>\n",
       "      <td>2181 days 18:11:57.817665</td>\n",
       "    </tr>\n",
       "  </tbody>\n",
       "</table>\n",
       "</div>"
      ],
      "text/plain": [
       "                      shelf_life\n",
       "count                       8664\n",
       "mean   1488 days 11:44:17.037300\n",
       "std     493 days 10:20:18.375298\n",
       "min              0 days 00:00:00\n",
       "25%    1085 days 18:11:57.585779\n",
       "50%    1450 days 18:11:57.725364\n",
       "75%    1815 days 18:11:57.767609\n",
       "max    2181 days 18:11:57.817665"
      ]
     },
     "execution_count": 10,
     "metadata": {},
     "output_type": "execute_result"
    }
   ],
   "source": [
    "### Descriptions\n",
    "shelf_lives_df = pd.DataFrame(reported, columns=['shelf_life', 'status'])\n",
    "\n",
    "shelf_lives_df.describe()"
   ]
  },
  {
   "cell_type": "code",
   "execution_count": 11,
   "metadata": {},
   "outputs": [
    {
     "name": "stdout",
     "output_type": "stream",
     "text": [
      "The correlation between shelf life and Total Funding Amount is 0.07.\n",
      "The correlation between shelf life and Last Funding Amount is 0.05.\n"
     ]
    }
   ],
   "source": [
    "# Correlations?\n",
    "targets = ['Total Funding Amount', 'Last Funding Amount']\n",
    "\n",
    "for target in targets:\n",
    "    correlation = df[target].corr(shelf_lives_df['shelf_life'].apply(lambda dtime: dtime.days))\n",
    "    corr = '%.2f' % correlation\n",
    "    print(f'The correlation between shelf life and {target} is {corr}.')"
   ]
  },
  {
   "cell_type": "markdown",
   "metadata": {},
   "source": [
    "What's the average shelf-life as a function of operating status?"
   ]
  },
  {
   "cell_type": "code",
   "execution_count": 12,
   "metadata": {},
   "outputs": [
    {
     "name": "stdout",
     "output_type": "stream",
     "text": [
      "Startups with status 'CLOSED' account for 2.38% of the total lifetime of firms in the data set.\n",
      "Startups with status 'OPERATING' account for 90.85% of the total lifetime of firms in the data set.\n",
      "Startups with status 'WAS ACQUIRED' account for 6.46% of the total lifetime of firms in the data set.\n",
      "Startups with status 'IPO' account for 0.32% of the total lifetime of firms in the data set.\n"
     ]
    }
   ],
   "source": [
    "from collections import Counter\n",
    "\n",
    "status_counter = Counter(shelf_lives_df)\n",
    "\n",
    "accumulator = {}\n",
    "for row in shelf_lives_df.iterrows():\n",
    "    _, data = row\n",
    "    shelf_life, status = data\n",
    "    if accumulator.get(status, 0) == 0:\n",
    "        accumulator[status] = shelf_life.days\n",
    "    else:\n",
    "        accumulator[status] += shelf_life.days\n",
    "        \n",
    "\n",
    "for status, shelf_life_days in accumulator.items():\n",
    "    perc = lambda str: '%.2f' % str\n",
    "    prop = shelf_life_days / sum(accumulator.values()) * 100\n",
    "    print(f'Startups with status \\'{status.upper()}\\' account for {perc(prop)}% of the total lifetime of firms in the data set.')"
   ]
  },
  {
   "cell_type": "code",
   "execution_count": 13,
   "metadata": {},
   "outputs": [
    {
     "name": "stderr",
     "output_type": "stream",
     "text": [
      "/anaconda/lib/python3.6/site-packages/IPython/core/interactiveshell.py:2821: DtypeWarning: Columns (9,11) have mixed types. Specify dtype option on import or set low_memory=False.\n",
      "  if self.run_code(code, result):\n"
     ]
    },
    {
     "ename": "KeyError",
     "evalue": "\"['Total Funding Amount'] not in index\"",
     "output_type": "error",
     "traceback": [
      "\u001b[0;31m---------------------------------------------------------------------------\u001b[0m",
      "\u001b[0;31mKeyError\u001b[0m                                  Traceback (most recent call last)",
      "\u001b[0;32m<ipython-input-13-eebe9d194014>\u001b[0m in \u001b[0;36m<module>\u001b[0;34m()\u001b[0m\n\u001b[1;32m      1\u001b[0m \u001b[0;32mfrom\u001b[0m \u001b[0mhelpers\u001b[0m \u001b[0;32mimport\u001b[0m \u001b[0mextract\u001b[0m\u001b[0;34m,\u001b[0m \u001b[0mfilter_data\u001b[0m\u001b[0;34m\u001b[0m\u001b[0m\n\u001b[1;32m      2\u001b[0m \u001b[0;34m\u001b[0m\u001b[0m\n\u001b[0;32m----> 3\u001b[0;31m \u001b[0musa_data\u001b[0m \u001b[0;34m=\u001b[0m \u001b[0mfilter_data\u001b[0m\u001b[0;34m(\u001b[0m\u001b[0mextract\u001b[0m\u001b[0;34m(\u001b[0m\u001b[0;34m)\u001b[0m\u001b[0;34m)\u001b[0m\u001b[0;34m\u001b[0m\u001b[0m\n\u001b[0m\u001b[1;32m      4\u001b[0m \u001b[0;34m\u001b[0m\u001b[0m\n\u001b[1;32m      5\u001b[0m \u001b[0;31m# Get a list of the cities appearing in our data's list of HQ Locations\u001b[0m\u001b[0;34m\u001b[0m\u001b[0;34m\u001b[0m\u001b[0m\n",
      "\u001b[0;32m/Users/rachel/Desktop/project 2/Dossier/Analysis/helpers.py\u001b[0m in \u001b[0;36mextract\u001b[0;34m(filename, delimiter, encoding)\u001b[0m\n\u001b[1;32m     14\u001b[0m                       encoding=encoding)\n\u001b[1;32m     15\u001b[0m \u001b[0;34m\u001b[0m\u001b[0m\n\u001b[0;32m---> 16\u001b[0;31m   \u001b[0;32mreturn\u001b[0m \u001b[0mdata\u001b[0m\u001b[0;34m[\u001b[0m\u001b[0mcolumns_of_interest\u001b[0m\u001b[0;34m(\u001b[0m\u001b[0;34m)\u001b[0m\u001b[0;34m]\u001b[0m\u001b[0;34m\u001b[0m\u001b[0m\n\u001b[0m\u001b[1;32m     17\u001b[0m \u001b[0;34m\u001b[0m\u001b[0m\n\u001b[1;32m     18\u001b[0m \u001b[0;34m\u001b[0m\u001b[0m\n",
      "\u001b[0;32m/anaconda/lib/python3.6/site-packages/pandas/core/frame.py\u001b[0m in \u001b[0;36m__getitem__\u001b[0;34m(self, key)\u001b[0m\n\u001b[1;32m   2054\u001b[0m         \u001b[0;32mif\u001b[0m \u001b[0misinstance\u001b[0m\u001b[0;34m(\u001b[0m\u001b[0mkey\u001b[0m\u001b[0;34m,\u001b[0m \u001b[0;34m(\u001b[0m\u001b[0mSeries\u001b[0m\u001b[0;34m,\u001b[0m \u001b[0mnp\u001b[0m\u001b[0;34m.\u001b[0m\u001b[0mndarray\u001b[0m\u001b[0;34m,\u001b[0m \u001b[0mIndex\u001b[0m\u001b[0;34m,\u001b[0m \u001b[0mlist\u001b[0m\u001b[0;34m)\u001b[0m\u001b[0;34m)\u001b[0m\u001b[0;34m:\u001b[0m\u001b[0;34m\u001b[0m\u001b[0m\n\u001b[1;32m   2055\u001b[0m             \u001b[0;31m# either boolean or fancy integer index\u001b[0m\u001b[0;34m\u001b[0m\u001b[0;34m\u001b[0m\u001b[0m\n\u001b[0;32m-> 2056\u001b[0;31m             \u001b[0;32mreturn\u001b[0m \u001b[0mself\u001b[0m\u001b[0;34m.\u001b[0m\u001b[0m_getitem_array\u001b[0m\u001b[0;34m(\u001b[0m\u001b[0mkey\u001b[0m\u001b[0;34m)\u001b[0m\u001b[0;34m\u001b[0m\u001b[0m\n\u001b[0m\u001b[1;32m   2057\u001b[0m         \u001b[0;32melif\u001b[0m \u001b[0misinstance\u001b[0m\u001b[0;34m(\u001b[0m\u001b[0mkey\u001b[0m\u001b[0;34m,\u001b[0m \u001b[0mDataFrame\u001b[0m\u001b[0;34m)\u001b[0m\u001b[0;34m:\u001b[0m\u001b[0;34m\u001b[0m\u001b[0m\n\u001b[1;32m   2058\u001b[0m             \u001b[0;32mreturn\u001b[0m \u001b[0mself\u001b[0m\u001b[0;34m.\u001b[0m\u001b[0m_getitem_frame\u001b[0m\u001b[0;34m(\u001b[0m\u001b[0mkey\u001b[0m\u001b[0;34m)\u001b[0m\u001b[0;34m\u001b[0m\u001b[0m\n",
      "\u001b[0;32m/anaconda/lib/python3.6/site-packages/pandas/core/frame.py\u001b[0m in \u001b[0;36m_getitem_array\u001b[0;34m(self, key)\u001b[0m\n\u001b[1;32m   2098\u001b[0m             \u001b[0;32mreturn\u001b[0m \u001b[0mself\u001b[0m\u001b[0;34m.\u001b[0m\u001b[0mtake\u001b[0m\u001b[0;34m(\u001b[0m\u001b[0mindexer\u001b[0m\u001b[0;34m,\u001b[0m \u001b[0maxis\u001b[0m\u001b[0;34m=\u001b[0m\u001b[0;36m0\u001b[0m\u001b[0;34m,\u001b[0m \u001b[0mconvert\u001b[0m\u001b[0;34m=\u001b[0m\u001b[0;32mFalse\u001b[0m\u001b[0;34m)\u001b[0m\u001b[0;34m\u001b[0m\u001b[0m\n\u001b[1;32m   2099\u001b[0m         \u001b[0;32melse\u001b[0m\u001b[0;34m:\u001b[0m\u001b[0;34m\u001b[0m\u001b[0m\n\u001b[0;32m-> 2100\u001b[0;31m             \u001b[0mindexer\u001b[0m \u001b[0;34m=\u001b[0m \u001b[0mself\u001b[0m\u001b[0;34m.\u001b[0m\u001b[0mloc\u001b[0m\u001b[0;34m.\u001b[0m\u001b[0m_convert_to_indexer\u001b[0m\u001b[0;34m(\u001b[0m\u001b[0mkey\u001b[0m\u001b[0;34m,\u001b[0m \u001b[0maxis\u001b[0m\u001b[0;34m=\u001b[0m\u001b[0;36m1\u001b[0m\u001b[0;34m)\u001b[0m\u001b[0;34m\u001b[0m\u001b[0m\n\u001b[0m\u001b[1;32m   2101\u001b[0m             \u001b[0;32mreturn\u001b[0m \u001b[0mself\u001b[0m\u001b[0;34m.\u001b[0m\u001b[0mtake\u001b[0m\u001b[0;34m(\u001b[0m\u001b[0mindexer\u001b[0m\u001b[0;34m,\u001b[0m \u001b[0maxis\u001b[0m\u001b[0;34m=\u001b[0m\u001b[0;36m1\u001b[0m\u001b[0;34m,\u001b[0m \u001b[0mconvert\u001b[0m\u001b[0;34m=\u001b[0m\u001b[0;32mTrue\u001b[0m\u001b[0;34m)\u001b[0m\u001b[0;34m\u001b[0m\u001b[0m\n\u001b[1;32m   2102\u001b[0m \u001b[0;34m\u001b[0m\u001b[0m\n",
      "\u001b[0;32m/anaconda/lib/python3.6/site-packages/pandas/core/indexing.py\u001b[0m in \u001b[0;36m_convert_to_indexer\u001b[0;34m(self, obj, axis, is_setter)\u001b[0m\n\u001b[1;32m   1229\u001b[0m                 \u001b[0mmask\u001b[0m \u001b[0;34m=\u001b[0m \u001b[0mcheck\u001b[0m \u001b[0;34m==\u001b[0m \u001b[0;34m-\u001b[0m\u001b[0;36m1\u001b[0m\u001b[0;34m\u001b[0m\u001b[0m\n\u001b[1;32m   1230\u001b[0m                 \u001b[0;32mif\u001b[0m \u001b[0mmask\u001b[0m\u001b[0;34m.\u001b[0m\u001b[0many\u001b[0m\u001b[0;34m(\u001b[0m\u001b[0;34m)\u001b[0m\u001b[0;34m:\u001b[0m\u001b[0;34m\u001b[0m\u001b[0m\n\u001b[0;32m-> 1231\u001b[0;31m                     \u001b[0;32mraise\u001b[0m \u001b[0mKeyError\u001b[0m\u001b[0;34m(\u001b[0m\u001b[0;34m'%s not in index'\u001b[0m \u001b[0;34m%\u001b[0m \u001b[0mobjarr\u001b[0m\u001b[0;34m[\u001b[0m\u001b[0mmask\u001b[0m\u001b[0;34m]\u001b[0m\u001b[0;34m)\u001b[0m\u001b[0;34m\u001b[0m\u001b[0m\n\u001b[0m\u001b[1;32m   1232\u001b[0m \u001b[0;34m\u001b[0m\u001b[0m\n\u001b[1;32m   1233\u001b[0m                 \u001b[0;32mreturn\u001b[0m \u001b[0m_values_from_object\u001b[0m\u001b[0;34m(\u001b[0m\u001b[0mindexer\u001b[0m\u001b[0;34m)\u001b[0m\u001b[0;34m\u001b[0m\u001b[0m\n",
      "\u001b[0;31mKeyError\u001b[0m: \"['Total Funding Amount'] not in index\""
     ]
    }
   ],
   "source": [
    "from helpers import extract, filter_data\n",
    "\n",
    "usa_data = filter_data(extract())\n",
    "\n",
    "# Get a list of the cities appearing in our data's list of HQ Locations\n",
    "ascii_names_of_interest = list(Counter(df['Headquarters Location']).keys())\n",
    "\n",
    "# Data looks like: 'San Francisco, California, USA'--here, we extract /just/ the city portion ('San Francisc')\n",
    "cities_of_interest = [ascii_name.split(',')[0] for ascii_name in ascii_names_of_interest]\n",
    "\n",
    "# Extract only the cities we care about\n",
    "cities_of_interest_df = usa_data[usa_data['ascii_name'].isin(cities_of_interest)]\n",
    "\n",
    "usa_data.head(5)"
   ]
  },
  {
   "cell_type": "code",
   "execution_count": null,
   "metadata": {
    "collapsed": true
   },
   "outputs": [],
   "source": [
    "# ...And then pair with names for convenience, and filter locations with population < 5000\n",
    "THRESH = 10000\n",
    "\n",
    "cities_of_interest_df['population'] = cities_of_interest_df['population'] > THRESH\n",
    "\n",
    "# Remove state/country information from Headquarters Location\n",
    "companies['ascii_name'] = [location.split(',')[0] for location in companies['Headquarters Location']]\n",
    "\n",
    "# Next, group by hq_city to sum total funding amounts...\n",
    "hq_city_funding_totals = companies.groupby('ascii_name')['Total Funding Amount'].sum()\n",
    "hq_city_funding_totals = hq_city_funding_totals.to_frame().reset_index()\n",
    "\n",
    "# Add funding total series to our cities_of_interest_df\n",
    "from numpy import zeros\n",
    "cities_of_interest_df['funding_total'] = pd.Series(\n",
    "    zeros(len(cities_of_interest_df)), \n",
    "    index=cities_of_interest_df.index\n",
    ")"
   ]
  },
  {
   "cell_type": "code",
   "execution_count": null,
   "metadata": {
    "collapsed": true
   },
   "outputs": [],
   "source": [
    "from numpy import zeros\n",
    "\n",
    "# Add a funding totals column\n",
    "cities_of_interest_df['funding_total'] = pd.Series(zeros(len(cities_of_interest_df)), index=cities_of_interest_df.index)\n",
    "\n",
    "print(cities_of_interest_df.columns)\n",
    "\n",
    "merged = cities_of_interest_df.merge(pd.DataFrame(hq_city_funding_totals), how='inner', left_on='ascii_name', right_on='ascii_name')\n",
    "merged = merged.drop_duplicates(subset=['ascii_name']).reset_index()\n",
    "merged"
   ]
  },
  {
   "cell_type": "code",
   "execution_count": null,
   "metadata": {
    "collapsed": true
   },
   "outputs": [],
   "source": [
    "# Keeping track of some things\n",
    "avg_total_funding_amount = merged['Total Funding Amount'].mean()\n",
    "scale = avg_total_funding_amount\n",
    "\n",
    "scale"
   ]
  },
  {
   "cell_type": "markdown",
   "metadata": {},
   "source": [
    "    Uf. That's hacky and gross, but it's late, and I don't feel like refactoring."
   ]
  },
  {
   "cell_type": "code",
   "execution_count": null,
   "metadata": {
    "collapsed": true
   },
   "outputs": [],
   "source": [
    "! pip install plotly"
   ]
  },
  {
   "cell_type": "code",
   "execution_count": null,
   "metadata": {
    "collapsed": true
   },
   "outputs": [],
   "source": [
    "import plotly.plotly as py\n",
    "\n",
    "data = [dict(\n",
    "    type='scattergeo',\n",
    "    lat=merged['latitude'],\n",
    "    lon=merged['longitude'],\n",
    "    text=merged['ascii_name'],\n",
    "    markers=dict(\n",
    "        size=merged['Total Funding Amount'],\n",
    "        sizemode='area',\n",
    "        line = dict(width=25, color='rgb(40,40,40)')\n",
    "    )\n",
    ")]\n",
    "\n",
    "layout = dict(\n",
    "    title='Cities Represented in Startup Data',\n",
    "    showlegend=False,\n",
    "    geo=dict(\n",
    "        scope='usa',\n",
    "        projection=dict(type='albers usa'),\n",
    "        showland=True,\n",
    "        landcolor = 'rgb(217, 217, 217)',\n",
    "            subunitwidth=1,\n",
    "            countrywidth=1,\n",
    "            subunitcolor='rgb(255, 255, 255)',\n",
    "            countrycolor='rgb(255, 255, 255)'\n",
    "    ),\n",
    ")\n",
    "\n",
    "fig = dict( data=data, layout=layout )\n",
    "py.iplot( fig, validate=False)"
   ]
  },
  {
   "cell_type": "markdown",
   "metadata": {},
   "source": [
    "This isn't quite satisfactory, but it's a start: At least the trends are _visible_, if not apparent.\n",
    "\n",
    "Smart next steps would consist of emphasizing these trends. Perhaps by:\n",
    "\n",
    "1. Creating a histogram to bucket companies based on the range of funding amounts they fall into, and using this to add a color-coded legend\n",
    "2. Updating the mouseover tooltip to display the funding amount, rather than the city's coordinates and name.\n",
    "\n",
    "Such cosmetics are left as an exercise to the reader. Have fun."
   ]
  },
  {
   "cell_type": "markdown",
   "metadata": {},
   "source": [
    "Some _statistical_ next steps might include:\n",
    "     \n",
    "    1. Checking for correlations between funding amounts and latitude/longitude pairs\n",
    "    2. Normality testing, etc.\n",
    "    \n",
    "Due both to the exigencies of time and laziness, these next steps have been ommitted from this write-up. We'll loop back to this closer to **Project 2**.'"
   ]
  }
 ],
 "metadata": {
  "anaconda-cloud": {},
  "kernelspec": {
   "display_name": "Python 3",
   "language": "python",
   "name": "python3"
  },
  "language_info": {
   "codemirror_mode": {
    "name": "ipython",
    "version": 3
   },
   "file_extension": ".py",
   "mimetype": "text/x-python",
   "name": "python",
   "nbconvert_exporter": "python",
   "pygments_lexer": "ipython3",
   "version": "3.6.1"
  }
 },
 "nbformat": 4,
 "nbformat_minor": 1
}
