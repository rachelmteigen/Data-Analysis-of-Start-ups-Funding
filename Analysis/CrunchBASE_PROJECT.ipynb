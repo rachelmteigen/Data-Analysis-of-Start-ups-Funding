{
 "cells": [
  {
   "cell_type": "code",
   "execution_count": 2,
   "metadata": {
    "collapsed": true
   },
   "outputs": [],
   "source": [
    "##Dependencies\n",
    "from matplotlib.figure import Figure\n",
    "import matplotlib.pyplot as plt\n",
    "import matplotlib.dates as mdates\n",
    "import pandas as pd\n",
    "import numpy as np\n",
    "import seaborn as sns\n",
    "from datetime import datetime\n",
    "import random as rd\n",
    "np.random.seed(sum(map(ord, \"aesthetics\")))\n",
    "from os import getcwd\n",
    "from os.path import join\n"
   ]
  },
  {
   "cell_type": "code",
   "execution_count": 3,
   "metadata": {},
   "outputs": [
    {
     "data": {
      "text/html": [
       "<div>\n",
       "<style>\n",
       "    .dataframe thead tr:only-child th {\n",
       "        text-align: right;\n",
       "    }\n",
       "\n",
       "    .dataframe thead th {\n",
       "        text-align: left;\n",
       "    }\n",
       "\n",
       "    .dataframe tbody tr th {\n",
       "        vertical-align: top;\n",
       "    }\n",
       "</style>\n",
       "<table border=\"1\" class=\"dataframe\">\n",
       "  <thead>\n",
       "    <tr style=\"text-align: right;\">\n",
       "      <th></th>\n",
       "      <th>Company Name</th>\n",
       "      <th>Company Name URL</th>\n",
       "      <th>Category Groups</th>\n",
       "      <th>Headquarters Location</th>\n",
       "      <th>Description</th>\n",
       "      <th>Crunchbase Rank</th>\n",
       "      <th>Founded Date</th>\n",
       "      <th>Closed Date</th>\n",
       "      <th>Number of Funding Rounds</th>\n",
       "      <th>Last Funding Date</th>\n",
       "      <th>Last Funding Amount</th>\n",
       "      <th>Last Funding Type</th>\n",
       "      <th>Total Funding Amount</th>\n",
       "      <th>Status</th>\n",
       "    </tr>\n",
       "  </thead>\n",
       "  <tbody>\n",
       "    <tr>\n",
       "      <th>0</th>\n",
       "      <td>#waywire</td>\n",
       "      <td>https://www.crunchbase.com/organization/waywire</td>\n",
       "      <td>Media and Entertainment, Government and Milita...</td>\n",
       "      <td>New York, New York, United States</td>\n",
       "      <td>#waywire is an online community focused on soc...</td>\n",
       "      <td>21,987</td>\n",
       "      <td>6/1/12</td>\n",
       "      <td>NaN</td>\n",
       "      <td>1</td>\n",
       "      <td>6/30/12</td>\n",
       "      <td>1750000</td>\n",
       "      <td>Seed</td>\n",
       "      <td>1750000</td>\n",
       "      <td>Was Acquired</td>\n",
       "    </tr>\n",
       "    <tr>\n",
       "      <th>1</th>\n",
       "      <td>*gram Labs</td>\n",
       "      <td>https://www.crunchbase.com/organization/gram-labs</td>\n",
       "      <td>Science and Engineering, Hardware, Data and An...</td>\n",
       "      <td>New York, New York, United States</td>\n",
       "      <td>GramLabs is a start up, leveraging deep learni...</td>\n",
       "      <td>11,897</td>\n",
       "      <td>8/1/15</td>\n",
       "      <td>NaN</td>\n",
       "      <td>1</td>\n",
       "      <td>7/27/16</td>\n",
       "      <td>1000000</td>\n",
       "      <td>Seed</td>\n",
       "      <td>1000000</td>\n",
       "      <td>Operating</td>\n",
       "    </tr>\n",
       "    <tr>\n",
       "      <th>2</th>\n",
       "      <td>.io</td>\n",
       "      <td>https://www.crunchbase.com/organization/io-rea...</td>\n",
       "      <td>Data and Analytics</td>\n",
       "      <td>Alexandria, Virginia, United States</td>\n",
       "      <td>.io is a real-time intelligence platform.</td>\n",
       "      <td>16,844</td>\n",
       "      <td>3/1/15</td>\n",
       "      <td>NaN</td>\n",
       "      <td>1</td>\n",
       "      <td>10/1/15</td>\n",
       "      <td>1500000</td>\n",
       "      <td>Seed</td>\n",
       "      <td>1500000</td>\n",
       "      <td>Operating</td>\n",
       "    </tr>\n",
       "    <tr>\n",
       "      <th>3</th>\n",
       "      <td>/dev/color</td>\n",
       "      <td>https://www.crunchbase.com/organization/dev-color</td>\n",
       "      <td>NaN</td>\n",
       "      <td>Menlo Park, California, United States</td>\n",
       "      <td>/dev/color is a non-profit organization that a...</td>\n",
       "      <td>35,003</td>\n",
       "      <td>5/1/15</td>\n",
       "      <td>NaN</td>\n",
       "      <td>1</td>\n",
       "      <td>8/23/16</td>\n",
       "      <td>120000</td>\n",
       "      <td>Seed</td>\n",
       "      <td>120000</td>\n",
       "      <td>Operating</td>\n",
       "    </tr>\n",
       "    <tr>\n",
       "      <th>4</th>\n",
       "      <td>10 By 10</td>\n",
       "      <td>https://www.crunchbase.com/organization/10-by-10</td>\n",
       "      <td>Software, Professional Services</td>\n",
       "      <td>San Francisco, California, United States</td>\n",
       "      <td>10by10 builds a marketplace to more quickly ma...</td>\n",
       "      <td>59,822</td>\n",
       "      <td>1/1/15</td>\n",
       "      <td>NaN</td>\n",
       "      <td>1</td>\n",
       "      <td>7/1/17</td>\n",
       "      <td>120000</td>\n",
       "      <td>Seed</td>\n",
       "      <td>120000</td>\n",
       "      <td>Operating</td>\n",
       "    </tr>\n",
       "  </tbody>\n",
       "</table>\n",
       "</div>"
      ],
      "text/plain": [
       "  Company Name                                   Company Name URL  \\\n",
       "0     #waywire    https://www.crunchbase.com/organization/waywire   \n",
       "1   *gram Labs  https://www.crunchbase.com/organization/gram-labs   \n",
       "2          .io  https://www.crunchbase.com/organization/io-rea...   \n",
       "3   /dev/color  https://www.crunchbase.com/organization/dev-color   \n",
       "4     10 By 10   https://www.crunchbase.com/organization/10-by-10   \n",
       "\n",
       "                                     Category Groups  \\\n",
       "0  Media and Entertainment, Government and Milita...   \n",
       "1  Science and Engineering, Hardware, Data and An...   \n",
       "2                                 Data and Analytics   \n",
       "3                                                NaN   \n",
       "4                    Software, Professional Services   \n",
       "\n",
       "                      Headquarters Location  \\\n",
       "0         New York, New York, United States   \n",
       "1         New York, New York, United States   \n",
       "2       Alexandria, Virginia, United States   \n",
       "3     Menlo Park, California, United States   \n",
       "4  San Francisco, California, United States   \n",
       "\n",
       "                                         Description Crunchbase Rank  \\\n",
       "0  #waywire is an online community focused on soc...          21,987   \n",
       "1  GramLabs is a start up, leveraging deep learni...          11,897   \n",
       "2          .io is a real-time intelligence platform.          16,844   \n",
       "3  /dev/color is a non-profit organization that a...          35,003   \n",
       "4  10by10 builds a marketplace to more quickly ma...          59,822   \n",
       "\n",
       "  Founded Date Closed Date  Number of Funding Rounds Last Funding Date  \\\n",
       "0       6/1/12         NaN                         1           6/30/12   \n",
       "1       8/1/15         NaN                         1           7/27/16   \n",
       "2       3/1/15         NaN                         1           10/1/15   \n",
       "3       5/1/15         NaN                         1           8/23/16   \n",
       "4       1/1/15         NaN                         1            7/1/17   \n",
       "\n",
       "   Last Funding Amount Last Funding Type  Total Funding Amount        Status  \n",
       "0              1750000              Seed               1750000  Was Acquired  \n",
       "1              1000000              Seed               1000000     Operating  \n",
       "2              1500000              Seed               1500000     Operating  \n",
       "3               120000              Seed                120000     Operating  \n",
       "4               120000              Seed                120000     Operating  "
      ]
     },
     "execution_count": 3,
     "metadata": {},
     "output_type": "execute_result"
    }
   ],
   "source": [
    "## Read file and then sort \n",
    "csv_file = \"companies.csv\"\n",
    "companies_df = pd.read_csv(join(getcwd(), '../data', 'companies.csv'), encoding='ISO-8859-1')\n",
    "                           \n",
    "companies_df = companies_df.sort_values(\"Company Name\").reset_index(drop=True)\n",
    "companies_df.head(5)\n"
   ]
  },
  {
   "cell_type": "code",
   "execution_count": null,
   "metadata": {
    "collapsed": true
   },
   "outputs": [],
   "source": [
    "companies_df = companies_df[[\"Company Name\", \"Founded Date\", \"Closed Date\", \n",
    "                             \"Number of Funding Rounds\", \"Last Funding Date\", \n",
    "                             \"Last Funding Amount\", \"Total Funding Amount\", \"Status\"]]\n",
    "companies_df.head(5)"
   ]
  },
  {
   "cell_type": "code",
   "execution_count": null,
   "metadata": {
    "collapsed": true
   },
   "outputs": [],
   "source": [
    "companies_pf = companies_df.rename(columns={\n",
    "    \"Company Name\" : \"Company\",\n",
    "    \"Number of Funding Rounds\" : \"Funding Rounds\"   \n",
    "})\n",
    "\n",
    "companies_pf.head(5)"
   ]
  },
  {
   "cell_type": "code",
   "execution_count": null,
   "metadata": {
    "collapsed": true
   },
   "outputs": [],
   "source": [
    "## Read file and then sort \n",
    "funding = \"Funding_Rounds.csv\"\n",
    "funding_df = pd.read_csv(funding, encoding=\"iso-8859-1\", \n",
    "                         parse_dates=[\"Announced On Date\"])\n",
    "funding_df.head(5)\n"
   ]
  },
  {
   "cell_type": "code",
   "execution_count": null,
   "metadata": {
    "collapsed": true
   },
   "outputs": [],
   "source": [
    "funding_df = funding_df[[\"Company Name\", \"Funding Type\", \"Money Raised\", \n",
    "                         \"Announced On Date\"]]\n",
    "funding_df.head(5)"
   ]
  },
  {
   "cell_type": "code",
   "execution_count": null,
   "metadata": {
    "collapsed": true
   },
   "outputs": [],
   "source": [
    "funding_pf = funding_df.rename(columns={\n",
    "    \"Company Name\" : \"Company\"\n",
    "})\n",
    "\n",
    "funding_pf.head()"
   ]
  },
  {
   "cell_type": "code",
   "execution_count": null,
   "metadata": {
    "collapsed": true
   },
   "outputs": [],
   "source": [
    "# Merge companies_pf and funding_pf on Company\n",
    "merged_data = pd.merge(companies_pf, funding_pf,how=\"inner\",on=\"Company\")\n",
    "merged_data.head(5)\n",
    "\n"
   ]
  },
  {
   "cell_type": "code",
   "execution_count": null,
   "metadata": {
    "collapsed": true
   },
   "outputs": [],
   "source": [
    "# Save Data to csv without index, with header\n",
    "merged_data.to_csv(\"merged_company_funding.csv\", index=False, header=True)"
   ]
  },
  {
   "cell_type": "code",
   "execution_count": null,
   "metadata": {
    "collapsed": true
   },
   "outputs": [],
   "source": [
    "## Read file and then sort \n",
    "org = \"organizations.csv\"\n",
    "org_df = pd.read_csv(org, encoding=\"iso-8859-1\")\n",
    "org_df.head(5)                              "
   ]
  },
  {
   "cell_type": "code",
   "execution_count": null,
   "metadata": {
    "collapsed": true
   },
   "outputs": [],
   "source": [
    "# Rename columns for readability\n",
    "new_file = org_df.rename(columns={\n",
    "    \"crunchbase_uuid\": \"UUID\",\n",
    "    \"name\" : \"Company\",\n",
    "    \"homepage_url\" : \"Homepage\"   \n",
    "})\n",
    "\n",
    "new_file.head(5)"
   ]
  },
  {
   "cell_type": "code",
   "execution_count": null,
   "metadata": {
    "collapsed": true
   },
   "outputs": [],
   "source": [
    "new_file = new_file[[\"UUID\", \"Company\", \"Homepage\"]]\n",
    "new_file.head()\n"
   ]
  },
  {
   "cell_type": "code",
   "execution_count": null,
   "metadata": {
    "collapsed": true
   },
   "outputs": [],
   "source": [
    "# Save Data to csv without index, with header\n",
    "new_file.to_csv(\"new_org.csv\", index=False, header=True)"
   ]
  },
  {
   "cell_type": "code",
   "execution_count": null,
   "metadata": {
    "collapsed": true
   },
   "outputs": [],
   "source": [
    "merged_df = pd.merge(merged_data, new_file,how=\"inner\",on=\"Company\")\n",
    "merged_df.head(5)"
   ]
  },
  {
   "cell_type": "code",
   "execution_count": null,
   "metadata": {
    "collapsed": true
   },
   "outputs": [],
   "source": [
    "duplicated_df = merged_df[merged_df.duplicated(['Company'],keep=False)]\n",
    "\n",
    "duplicated_df.head()\n"
   ]
  },
  {
   "cell_type": "code",
   "execution_count": null,
   "metadata": {
    "collapsed": true
   },
   "outputs": [],
   "source": [
    "series_a = duplicated_df[duplicated_df['Funding Type'] == \"Series A\"]\n",
    "# series_b = duplicated_df[duplicated_df['Funding Type'] == \"Series B\"]\n",
    "# series_c = duplicated_df[duplicated_df['Funding Type'] == \"Series C\"]\n",
    "# series_d = duplicated_df[duplicated_df['Funding Type'] == \"Series D\"]\n",
    "\n",
    "# # x-axis\n",
    "series_a_count = series_a.groupby([\"Company\"]).sum()[\"Money Raised\"]\n",
    "# #y-axis\n",
    "series_a_total_count = series_a.groupby([\"Company\"]).count()[\"Funding Rounds\"]\n",
    "\n",
    "\n",
    "# # # x-axis\n",
    "series_b_count = series_b.groupby([\"Company\"]).sum()[\"Money Raised\"]\n",
    "# # # #y-axis\n",
    "series_b_total_count = series_b.groupby([\"Company\"]).count()[\"Funding Rounds\"]\n",
    "\n",
    "# # # # x-axis\n",
    "series_c_count = series_c.groupby([\"Company\"]).sum()[\"Money Raised\"]\n",
    "# # #y-axis\n",
    "series_c_total_count = series_c.groupby([\"Company\"]).count()[\"Funding Rounds\"]\n",
    "\n",
    "series_d_count = series_d.groupby([\"Company\"]).sum()[\"Money Raised\"]\n",
    "# # # #y-axis\n",
    "series_d_total_count = series_d.groupby([\"Company\"]).count()[\"Funding Rounds\"]\n"
   ]
  },
  {
   "cell_type": "code",
   "execution_count": null,
   "metadata": {
    "collapsed": true
   },
   "outputs": [],
   "source": [
    "plt.scatter(series_a_total_count,\n",
    "            series_a_count,\n",
    "            s=10*series_a_total_count, c=\"coral\",\n",
    "            edgecolor=\"black\", linewidths=1, marker=\"o\",\n",
    "            alpha=0.9, label=\"Series A\")\n",
    "\n",
    "plt.scatter(series_b_total_count,\n",
    "            series_b_count,\n",
    "            s=10*series_b_total_count, c=\"lightskyblue\",\n",
    "            edgecolor=\"black\", linewidths=1, marker=\"o\",\n",
    "            alpha=0.8, label=\"Series B\")\n",
    "\n",
    "plt.scatter(series_c_total_count,\n",
    "            series_c_count,\n",
    "            s=10*series_c_total_count, c=\"gold\",\n",
    "            edgecolor=\"black\", linewidths=1, marker=\"o\",\n",
    "            alpha=0.8, label=\"Series C\")\n",
    "\n",
    "plt.scatter(series_d_total_count,\n",
    "            series_d_count,\n",
    "            s=10*series_d_total_count, c=\"green\",\n",
    "            edgecolor=\"black\", linewidths=1, marker=\"o\",\n",
    "            alpha=0.8, label=\"Series D\")\n",
    "\n",
    "# # Create a legend\n",
    "lgnd = plt.legend(fontsize=\"small\", mode=\"Expanded\",\n",
    "                  numpoints=1, scatterpoints=1,\n",
    "                  loc=\"best\", title=\"City Types\",\n",
    "                  labelspacing=0.5)\n",
    "lgnd.legendHandles[0]._sizes = [30]\n",
    "lgnd.legendHandles[1]._sizes = [30]\n",
    "lgnd.legendHandles[2]._sizes = [30]\n",
    "lgnd.legendHandles[3]._sizes = [30]\n",
    "\n",
    "# Create legend.\n",
    "plt.legend(loc='upper left')                      \n",
    "plt.title(\"Success of Startups Data\")\n",
    "plt.xlabel(\"Money Raised\")\n",
    "plt.ylabel(\"Funding Rounds\")\n",
    "plt.grid(True)\n",
    "\n",
    "\n",
    "plt.show()"
   ]
  },
  {
   "cell_type": "code",
   "execution_count": null,
   "metadata": {
    "collapsed": true
   },
   "outputs": [],
   "source": [
    "fund_dup = duplicated_df.groupby('Company')[\"Money Raised\"].sum()\n",
    "\n",
    "fund_dup.head()"
   ]
  },
  {
   "cell_type": "code",
   "execution_count": null,
   "metadata": {
    "collapsed": true
   },
   "outputs": [],
   "source": [
    "# x axis for funding_average_per_type_bar_chart \n",
    "funding_types = duplicated_df[\"Funding Type\"].unique()\n",
    "#y axis\n",
    "fund_dup = np.array(duplicated_df.groupby('Funding Type')[\"Money Raised\"].sum())\n"
   ]
  },
  {
   "cell_type": "code",
   "execution_count": null,
   "metadata": {
    "collapsed": true
   },
   "outputs": [],
   "source": [
    "import matplotlib.pyplot as plt\n",
    "import numpy as np\n",
    "\n",
    "fig = plt.figure()\n",
    "ax = fig.add_subplot(111)\n",
    "\n",
    "x_axis = np.arange(1, len(funding_types)+1)\n",
    "xtick_locations = [x for x in x_axis]\n",
    "\n",
    "ax.set_title(\"Funding Type Lost Revenue Closed Startups\", weight='bold').set_fontsize('18')\n",
    "ax.set_xlabel(\"Funding Types\", weight='bold').set_fontsize('14')\n",
    "ax.set_ylabel(\"Average Investments(10MM)\", weight='bold').set_fontsize('14')\n",
    "\n",
    "ax.set_xlim(0, len(funding_types) +1)\n",
    "\n",
    "plt.ticklabel_format(style = 'plain')\n",
    "\n",
    "ax.bar(x_axis, fund_dup, facecolor=\"green\", width=.4)\n",
    "ax.set_xticks(xtick_locations)\n",
    "\n",
    "ax.set_xticklabels(funding_types, rotation=35, weight='bold')\n",
    "# ax.set_yticklabels([0,10,20,30,40,50,60,70],\n",
    "#                    rotation=360, weight='bold')\n",
    "\n",
    "# plt.tight_layout()\n",
    "# plt.savefig(\"funding_type_closed_revenue.png\")\n",
    "plt.show()"
   ]
  },
  {
   "cell_type": "code",
   "execution_count": null,
   "metadata": {
    "collapsed": true
   },
   "outputs": [],
   "source": [
    "companies_dup = duplicated.groupby('Company')[\"Funding Type\"].sum()\n",
    "companies_dup"
   ]
  },
  {
   "cell_type": "code",
   "execution_count": null,
   "metadata": {
    "collapsed": true
   },
   "outputs": [],
   "source": [
    "merged_df.dtypes"
   ]
  },
  {
   "cell_type": "code",
   "execution_count": null,
   "metadata": {
    "collapsed": true
   },
   "outputs": [],
   "source": [
    "# # Convert fields to usable formats\n",
    "# merged_df[\"Money Raised\"] = merged_df[\"Money Raised\"].str.strip() \\\n",
    "#                                                    .replace('[\\$,]','', regex=True ).astype(np.int64)\n",
    "    \n",
    "# merged_df[\"Last Funding Amount\"] = merged_df[\"Last Funding Amount\"] \\\n",
    "#                                                    .replace('[\\$,]','', regex=True ).astype(np.int64)\n",
    "# merged_df[\"Total Funding Amount\"] = merged_df[\"Total Funding Amount\"] \\\n",
    "#                                                    .replace('[\\$,]','', regex=True ).astype(np.int64)\n",
    "# merged_df.head(5)"
   ]
  },
  {
   "cell_type": "code",
   "execution_count": null,
   "metadata": {
    "collapsed": true
   },
   "outputs": [],
   "source": [
    "# works\n",
    "for i, el in enumerate(merged_df.iterrows()):\n",
    "    val = el[1]['UUID'].replace(\"-\", \"\")\n",
    "    merged_df.set_value(i, \"UUID\", val)\n",
    "merged_df.head(5)"
   ]
  },
  {
   "cell_type": "code",
   "execution_count": null,
   "metadata": {
    "collapsed": true
   },
   "outputs": [],
   "source": [
    "# Save Data to csv without index, with header\n",
    "merged_df.to_csv(\"all_files_merged_df.csv\", index=False, header=True)"
   ]
  },
  {
   "cell_type": "code",
   "execution_count": null,
   "metadata": {
    "collapsed": true
   },
   "outputs": [],
   "source": [
    "# Expore the data\n",
    "min_found_date = min(merged_df[\"Founded Date\"])\n",
    "print(\"Min founded date \", min_found_date)"
   ]
  },
  {
   "cell_type": "code",
   "execution_count": null,
   "metadata": {
    "collapsed": true
   },
   "outputs": [],
   "source": [
    "# Expore the data\n",
    "max_close_date = max(merged_df[\"Closed Date\"])\n",
    "print(\"Max closed date \", max_close_date)"
   ]
  },
  {
   "cell_type": "code",
   "execution_count": null,
   "metadata": {
    "collapsed": true
   },
   "outputs": [],
   "source": [
    "# sum of counts is 10278\n",
    "funding_pct = merged_df.groupby('Funding Type')[\"Money Raised\"].count()\n",
    "funding_pct\n"
   ]
  },
  {
   "cell_type": "code",
   "execution_count": null,
   "metadata": {
    "collapsed": true
   },
   "outputs": [],
   "source": [
    "plt.rcParams['font.size'] = 8.0\n",
    "\n",
    "fig = plt.figure(figsize=[8, 6])\n",
    "ax = fig.add_subplot(111)\n",
    "\n",
    "types_area = [\"Seed\", \"Series A\", \"Series B\", \"Series C\",\"Series D\" ]\n",
    "numbers = funding_pct\n",
    "colors = [\"gold\", \"lightcoral\", \"cyan\", \"lightgreen\", \"lightskyblue\"]\n",
    "explode = (0.06, 0, 0, 0, 0)\n",
    "\n",
    "x_axis = np.arange(0, len(types_area))\n",
    "\n",
    "ax.set_title(\"Funding Type Percentages for Startups\", weight='bold').set_fontsize('18')\n",
    "\n",
    "ax.pie(numbers, explode=explode, \n",
    "       labels=types_area, colors=colors,\n",
    "       autopct=\"%1.2f%%\", textprops={'weight': 'bold', 'fontsize':'14'}, \n",
    "       shadow=True, startangle=-45, pctdistance=.85, labeldistance=1.1)\n",
    "\n",
    "ax.axis(\"equal\")\n",
    "\n",
    "# Save the figure\n",
    "plt.tight_layout()\n",
    "plt.savefig(\"funding_type_count_pie_chart.png\")\n",
    "\n",
    "plt.show()"
   ]
  },
  {
   "cell_type": "code",
   "execution_count": null,
   "metadata": {
    "collapsed": true
   },
   "outputs": [],
   "source": [
    "# Expore the data\n",
    "# 286 records with Status == \"Closed\"\n",
    "closed_df = merged_df.loc[merged_df[\"Status\"] == \"Closed\"]\n",
    "closed_df.head(5)\n",
    "#print(len(closed_df.index))"
   ]
  },
  {
   "cell_type": "code",
   "execution_count": null,
   "metadata": {
    "collapsed": true
   },
   "outputs": [],
   "source": [
    "closed_count = closed_df.groupby('Funding Type')[\"Money Raised\"].count()\n",
    "closed_count.head(10)"
   ]
  },
  {
   "cell_type": "code",
   "execution_count": null,
   "metadata": {
    "collapsed": true
   },
   "outputs": [],
   "source": [
    "plt.rcParams['font.size'] = 12.0\n",
    "\n",
    "fig = plt.figure(figsize=[8, 6])\n",
    "ax = fig.add_subplot(111)\n",
    "\n",
    "types_area = [\"Seed\", \"Series A\", \"Series B\"]\n",
    "numbers = closed_count\n",
    "colors = [\"gold\", \"lightcoral\", \"cyan\"]\n",
    "explode = (0, 0.06, 0)\n",
    "\n",
    "x_axis = np.arange(0, len(types_area))\n",
    "\n",
    "ax.set_title(\"Count of Each Series for Closed Rate for Start ups  by Percentages\", weight='bold').set_fontsize('18')\n",
    "\n",
    "ax.pie(numbers, explode=explode, \n",
    "       labels=types_area, colors=colors,\n",
    "       autopct=\"%1.2f%%\", textprops={'weight': 'bold', 'fontsize':'14'}, \n",
    "       shadow=True, startangle=30, pctdistance=.85, labeldistance=1.1)\n",
    "\n",
    "ax.axis(\"equal\")\n",
    "\n",
    "# Save the figure\n",
    "plt.tight_layout()\n",
    "plt.savefig(\"funding_type_closed_rate_pie_chart.png\")\n",
    "\n",
    "plt.show()"
   ]
  },
  {
   "cell_type": "code",
   "execution_count": null,
   "metadata": {
    "collapsed": true
   },
   "outputs": [],
   "source": [
    "closed_sum = closed_df.groupby('Funding Type')[\"Money Raised\"].sum()\n",
    "closed_sum.head(10)"
   ]
  },
  {
   "cell_type": "code",
   "execution_count": null,
   "metadata": {
    "collapsed": true
   },
   "outputs": [],
   "source": [
    "# y axis for funding_average_per_type_bar_chart \n",
    "fund_closed = np.array(closed_df.groupby('Funding Type')[\"Money Raised\"].sum())\n",
    "#fund_avgs"
   ]
  },
  {
   "cell_type": "code",
   "execution_count": null,
   "metadata": {
    "collapsed": true
   },
   "outputs": [],
   "source": [
    "# x axis for funding_average_per_type_bar_chart \n",
    "funding_types = closed_df[\"Funding Type\"].unique()\n",
    "#funding_types"
   ]
  },
  {
   "cell_type": "code",
   "execution_count": null,
   "metadata": {
    "collapsed": true
   },
   "outputs": [],
   "source": [
    "import matplotlib.pyplot as plt\n",
    "import numpy as np\n",
    "\n",
    "fig = plt.figure()\n",
    "ax = fig.add_subplot(111)\n",
    "\n",
    "x_axis = np.arange(1, len(funding_types)+ 1)\n",
    "xtick_locations = [x for x in x_axis]\n",
    "\n",
    "ax.set_title(\"Funding Type Lost Revenue Closed Startups\", weight='bold').set_fontsize('18')\n",
    "ax.set_xlabel(\"Funding Types\", weight='bold').set_fontsize('14')\n",
    "ax.set_ylabel(\"Average Investments(10MM)\", weight='bold').set_fontsize('14')\n",
    "\n",
    "ax.set_xlim(0, len(funding_types)+ 1)\n",
    "\n",
    "plt.ticklabel_format(style = 'plain')\n",
    "\n",
    "ax.bar(x_axis, fund_closed, facecolor=\"green\", width=.4)\n",
    "ax.set_xticks(xtick_locations)\n",
    "\n",
    "ax.set_xticklabels(funding_types, rotation=35, weight='bold')\n",
    "ax.set_yticklabels([0,10,20,30,40,50,60,70],\n",
    "                   rotation=360, weight='bold')\n",
    "\n",
    "plt.tight_layout()\n",
    "plt.savefig(\"funding_type_closed_revenue.png\")\n",
    "plt.show()"
   ]
  },
  {
   "cell_type": "code",
   "execution_count": null,
   "metadata": {
    "collapsed": true
   },
   "outputs": [],
   "source": [
    "# 9302 records with Status == \"Operating\"\n",
    "oper_df = merged_df.loc[merged_df[\"Status\"] == \"Operating\"]\n",
    "oper_df.head(5)\n",
    "#print(len(oper_df.index))"
   ]
  },
  {
   "cell_type": "code",
   "execution_count": null,
   "metadata": {
    "collapsed": true
   },
   "outputs": [],
   "source": [
    "# Funding Type counts\n",
    "operating = oper_df[\"Funding Type\"].value_counts()\n",
    "operating"
   ]
  },
  {
   "cell_type": "code",
   "execution_count": null,
   "metadata": {
    "collapsed": true
   },
   "outputs": [],
   "source": [
    "# Funding Type counts\n",
    "plt.rcParams['font.size'] = 10.0\n",
    "\n",
    "fig = plt.figure(figsize=[8, 6])\n",
    "ax = fig.add_subplot(111)\n",
    "\n",
    "types_area = [\"Seed\", \"Series A\", \"Series B\", \"Series C\",\"Series D\" ]\n",
    "numbers = operating\n",
    "colors = [\"gold\", \"lightcoral\", \"cyan\", \"lightgreen\", \"lightskyblue\"]\n",
    "explode = (0.06, 0, 0, 0, 0)\n",
    "\n",
    "x_axis = np.arange(0, len(types_area))\n",
    "\n",
    "ax.set_title(\"Operating by Funding Types Percentages for Startups\", weight='bold').set_fontsize('18')\n",
    "\n",
    "ax.pie(numbers, explode=explode, \n",
    "       labels=types_area, colors=colors,\n",
    "       autopct=\"%1.2f%%\", textprops={'weight': 'bold', 'fontsize':'14'}, \n",
    "       shadow=True, startangle=30, pctdistance=.85, labeldistance=1.1)\n",
    "\n",
    "ax.axis(\"equal\")\n",
    "\n",
    "# Save the figure\n",
    "plt.tight_layout()\n",
    "plt.savefig(\"funding_type_operating_pie_chart.png\")\n",
    "plt.show()"
   ]
  },
  {
   "cell_type": "code",
   "execution_count": null,
   "metadata": {
    "collapsed": true
   },
   "outputs": [],
   "source": [
    "# groupby Funding Type and count states within each type\n",
    "status = merged_df.groupby('Funding Type')[\"Status\"].value_counts()\n",
    "status.head(10)"
   ]
  },
  {
   "cell_type": "code",
   "execution_count": null,
   "metadata": {
    "collapsed": true
   },
   "outputs": [],
   "source": [
    "df1 = pd.DataFrame(status).rename(columns={\n",
    "    'Status':'Count'})\n",
    "\n",
    "df1.head(5)"
   ]
  },
  {
   "cell_type": "code",
   "execution_count": null,
   "metadata": {
    "collapsed": true
   },
   "outputs": [],
   "source": [
    "series_d = merged_df[merged_df['Funding Type'] == \"Series D\"]\n",
    "series_d"
   ]
  },
  {
   "cell_type": "code",
   "execution_count": null,
   "metadata": {
    "collapsed": true
   },
   "outputs": [],
   "source": [
    "funding_df = merged_df[merged_df['Funding Type'] == \"Seed\"]\n",
    "funding_df"
   ]
  },
  {
   "cell_type": "code",
   "execution_count": null,
   "metadata": {
    "collapsed": true
   },
   "outputs": [],
   "source": [
    "acquired = merged_df[merged_df['Status'] == \"Was Acquired\"]\n",
    "#seed_df = merged_df[merged_df['Funding Type'] == \"Seed\"]\n",
    "\n",
    "#seed_df = seed_df[seed_df['Status'] == \"Was Acquired\"]\n",
    "\n",
    "acquired"
   ]
  },
  {
   "cell_type": "code",
   "execution_count": null,
   "metadata": {
    "collapsed": true
   },
   "outputs": [],
   "source": [
    "acquired_count = acquired.groupby('Funding Type')[\"Money Raised\"].count()\n",
    "acquired_count.head(10)"
   ]
  },
  {
   "cell_type": "code",
   "execution_count": null,
   "metadata": {
    "collapsed": true
   },
   "outputs": [],
   "source": [
    "plt.rcParams['font.size'] = 12.0\n",
    "\n",
    "fig = plt.figure(figsize=[8, 6])\n",
    "ax = fig.add_subplot(111)\n",
    "\n",
    "types_area = [\"Seed\", \"Series A\", \"Series B\", \"Series C\",\"Series D\" ]\n",
    "numbers = acquired_count\n",
    "colors = [\"gold\", \"lightcoral\", \"cyan\", \"lightgreen\", \"lightskyblue\"]\n",
    "explode = (0.06, 0, 0, 0, 0)\n",
    "\n",
    "x_axis = np.arange(0, len(types_area))\n",
    "\n",
    "ax.set_title(\"Aquired by Funding Types Percentages for Startups\", weight='bold').set_fontsize('18')\n",
    "\n",
    "ax.pie(numbers, explode=explode, \n",
    "       labels=types_area, colors=colors,\n",
    "       autopct=\"%1.2f%%\", textprops={'weight': 'bold', 'fontsize':'14'}, \n",
    "       shadow=True, startangle=30, pctdistance=.85, labeldistance=1.1)\n",
    "\n",
    "ax.axis(\"equal\")\n",
    "\n",
    "# Save the figure\n",
    "plt.tight_layout()\n",
    "plt.savefig(\"funding_type_aquired_pie_chart.png\")\n",
    "\n",
    "plt.show()"
   ]
  },
  {
   "cell_type": "code",
   "execution_count": null,
   "metadata": {
    "collapsed": true
   },
   "outputs": [],
   "source": [
    "ipo = merged_df[merged_df['Status'] == \"IPO\"]\n",
    "ipo"
   ]
  },
  {
   "cell_type": "code",
   "execution_count": null,
   "metadata": {
    "collapsed": true
   },
   "outputs": [],
   "source": [
    "ipo_count = ipo.groupby('Funding Type')[\"Money Raised\"].count()\n",
    "ipo_count.head(10)"
   ]
  },
  {
   "cell_type": "code",
   "execution_count": null,
   "metadata": {
    "collapsed": true
   },
   "outputs": [],
   "source": [
    "plt.rcParams['font.size'] = 12.0\n",
    "\n",
    "fig = plt.figure(figsize=[6, 5])\n",
    "ax = fig.add_subplot(111)\n",
    "\n",
    "types_area = [\"Seed\", \"Series A\", \"Series B\", \"Series C\"]\n",
    "numbers = ipo_count\n",
    "colors = [\"gold\", \"lightcoral\", \"cyan\", \"lightgreen\"]\n",
    "explode = (0, 0.06, 0, 0)\n",
    "\n",
    "x_axis = np.arange(0, len(types_area))\n",
    "\n",
    "ax.set_title(\"IPO Percentages for Startups\", weight='bold').set_fontsize('18')\n",
    "\n",
    "ax.pie(numbers, explode=explode, \n",
    "       labels=types_area, colors=colors,\n",
    "       autopct=\"%1.2f%%\", textprops={'weight': 'bold', 'fontsize':'14'}, \n",
    "       shadow=True, startangle=30, pctdistance=.85, labeldistance=1.1)\n",
    "\n",
    "ax.axis(\"equal\")\n",
    "\n",
    "# Save the figure\n",
    "plt.tight_layout()\n",
    "plt.savefig(\"funding_type_ipo_pie_chart.png\")\n",
    "\n",
    "plt.show()"
   ]
  },
  {
   "cell_type": "code",
   "execution_count": null,
   "metadata": {
    "collapsed": true
   },
   "outputs": [],
   "source": [
    "funding_sum = merged_df.groupby('Funding Type')[\"Money Raised\"].sum()\n",
    "funding_sum"
   ]
  },
  {
   "cell_type": "code",
   "execution_count": null,
   "metadata": {
    "collapsed": true
   },
   "outputs": [],
   "source": [
    "plt.rcParams['font.size'] = 12.0\n",
    "fig = plt.figure(figsize=[8,5])\n",
    "ax = fig.add_subplot(111)\n",
    "\n",
    "types_area = [\"Seed\", \"Series A\", \"Series B\", \"Series C\",\"Series D\" ]\n",
    "numbers = funding_sum\n",
    "colors = [\"gold\", \"lightcoral\", \"cyan\", \"lightgreen\", \"lightskyblue\"]\n",
    "explode = (0, 0.06, 0, 0, 0)\n",
    "\n",
    "x_axis = np.arange(0, len(types_area))\n",
    "\n",
    "ax.set_title(\"Funding Type Total Funding Percentages for Startups\", \n",
    "             weight='bold').set_fontsize('18')\n",
    "ax.pie(numbers, explode=explode, labels=types_area, colors=colors,\n",
    "       autopct=\"%1.2f%%\", textprops={'weight': 'bold', 'fontsize':'14'},\n",
    "       shadow=True, startangle=30)\n",
    "ax.axis(\"equal\")\n",
    "\n",
    "# Save the figure\n",
    "plt.tight_layout()\n",
    "plt.savefig(\"funding_type_sum_pie_chart.png\")\n",
    "\n",
    "plt.show()"
   ]
  },
  {
   "cell_type": "code",
   "execution_count": null,
   "metadata": {
    "collapsed": true
   },
   "outputs": [],
   "source": [
    "# y axis for funding_average_per_type_bar_chart \n",
    "fund_avgs = np.array(merged_df.groupby('Funding Type')[\"Money Raised\"].median())\n",
    "#fund_avgs"
   ]
  },
  {
   "cell_type": "code",
   "execution_count": null,
   "metadata": {
    "collapsed": true
   },
   "outputs": [],
   "source": [
    "# x axis for funding_average_per_type_bar_chart \n",
    "funding_types = merged_df[\"Funding Type\"].unique()\n",
    "#funding_types"
   ]
  },
  {
   "cell_type": "code",
   "execution_count": null,
   "metadata": {
    "collapsed": true
   },
   "outputs": [],
   "source": [
    "# funding_average_per_type_bar_chart \n",
    "# Dependencies\n",
    "import matplotlib.pyplot as plt\n",
    "import numpy as np\n",
    "\n",
    "fig = plt.figure()\n",
    "ax = fig.add_subplot(111)\n",
    "\n",
    "x_axis = np.arange(1, len(funding_types)+ 1)\n",
    "xtick_locations = [x for x in x_axis]\n",
    "\n",
    "ax.set_title(\"Funding Type Average Investment\", weight='bold').set_fontsize('18')\n",
    "ax.set_xlabel(\"Funding Types\", weight='bold').set_fontsize('14')\n",
    "ax.set_ylabel(\"Average Investments(10MM)\", weight='bold').set_fontsize('14')\n",
    "\n",
    "ax.set_xlim(0, len(funding_types)+ 1)\n",
    "\n",
    "plt.ticklabel_format(style = 'plain')\n",
    "\n",
    "ax.bar(x_axis, fund_avgs, facecolor=\"green\", width=.4)\n",
    "ax.set_xticks(xtick_locations)\n",
    "\n",
    "ax.set_xticklabels(funding_types, rotation=35, weight='bold')\n",
    "ax.set_yticklabels([0,10,20,30,40,50,60,70],\n",
    "                   rotation=360, weight='bold')\n",
    "\n",
    "plt.tight_layout()\n",
    "plt.savefig(\"funding_type_avg_investment.png\")\n",
    "plt.show()"
   ]
  },
  {
   "cell_type": "code",
   "execution_count": null,
   "metadata": {
    "collapsed": true
   },
   "outputs": [],
   "source": [
    "# # The original top_orgs.xslx had the wrong url so this is a \n",
    "# # manual process to get the Homepage for Screen Scraping.\n",
    "# # The automated process can be built on this process.\n",
    "# # \n",
    "# # 1) Remove duplicates from copy of merged_df\n",
    "# # 2) Copy the output into top_orgs_search_results.txt\n",
    "# # 3) Manually copy the homepage url into top_orgs.xlsx and\n",
    "# #    create top_orgs.csv.\n",
    "# # 4) Searched organizations.xlsx manually and found Ripcord, \n",
    "# #    IndoorAtlas, and Truss.\n",
    "# # 5) Found 46 of 50 urls.\n",
    "\n",
    "# Copy merged_df to a temp data frame for processing\n",
    "tmp_merged_df = merged_df\n",
    "\n",
    "# Remove duplicates method 1:\n",
    "# tmp_merged_df = tmp_merged_df.groupby([\"Company\",\"Homepage\"]).max()\n",
    "# tmp_merged_df.reset_index(inplace=True)\n",
    "# or\n",
    "# Remove duplicates method 2:\n",
    "tmp_merged_df = tmp_merged_df.drop_duplicates(subset=[\"Company\",\"Homepage\"],\n",
    "                                              keep=\"last\").reset_index(drop=True)\n",
    "\n",
    "count = 0\n",
    "\n",
    "## Iterate over the top_orgs rows and lookup the homepage via the Company\n",
    "## This doesn't give what I want so I manually copied the url into top_orgs.xlsx\n",
    "## and created top_orgs.csv.\n",
    "for index, row in top_orgs.iterrows():\n",
    "    try:\n",
    "        # Use Company to get Homepage\n",
    "        print(\"This is the result for: \", row[\"Company\"])\n",
    "        #print(tmp_merged_df.loc[tmp_merged_df[\"Company\"] == row[\"Company\"],[\"Homepage\"]].values)\n",
    "        print(tmp_merged_df.loc[tmp_merged_df[\"Company\"] == row[\"Company\"],[\"Homepage\"]])\n",
    "        count += 1\n",
    "        ## Set the cell info for Homepage (Doesn't work!)\n",
    "        # example: print(df.loc[df['D'] == 14]['A'].values)\n",
    "        #url = tmp_merged_df.loc[tmp_merged_df[\"Company\"] == row[\"Company\"],[\"Homepage\"]]\n",
    "        #top_orgs.set_value(index, \"Homepage\", url)\n",
    "    except:\n",
    "        print(\"Error for: \", row[\"Company\"])  \n",
    "\n",
    "print(\"top_orgs rows processed: \", count)\n"
   ]
  },
  {
   "cell_type": "code",
   "execution_count": null,
   "metadata": {
    "collapsed": true
   },
   "outputs": [],
   "source": [
    "## File with url manually added for screen scraping using\n",
    "## the output file top_orgs_match_orgs_results.docx\n",
    "## Read file and then sort \n",
    "csv_file = \"top_orgs.csv\"\n",
    "top_orgs = pd.read_csv(csv_file, encoding=\"iso-8859-1\", parse_dates=[\"Announced On Date\"])\n",
    "top_orgs = top_orgs.sort_values(\"Funding Type\").reset_index(drop=True)\n",
    "top_orgs.head(5)\n"
   ]
  },
  {
   "cell_type": "code",
   "execution_count": null,
   "metadata": {
    "collapsed": true
   },
   "outputs": [],
   "source": [
    "import numpy as np\n",
    "\n",
    "top_orgs[\"Money Raised\"] = top_orgs[\"Money Raised\"].replace('[\\$,]','', regex=True ).astype(np.int64)\n",
    "top_orgs[\"Homepage\"] = top_orgs[\"Homepage\"].replace(np.nan, '', regex=True)\n",
    "\n",
    "#top_orgs[\"Homepage\"] = \"\"\n",
    "top_orgs[\"Total Visits\"] = \"\"\n",
    "top_orgs[\"Avg Visit Duration\"] = \"\"\n",
    "top_orgs[\"Pages Per Visit\"] = \"\"\n",
    "top_orgs[\"Bounce Rate\"] = \"\"\n",
    "print(len(top_orgs.index))\n",
    "top_orgs.head(5)\n"
   ]
  },
  {
   "cell_type": "code",
   "execution_count": null,
   "metadata": {
    "collapsed": true
   },
   "outputs": [],
   "source": [
    "# Save file with urls prior to scraping.to csv without index, with header\n",
    "top_orgs.to_csv(\"pre-screen_scrape_data.csv\", index=False, header=True)"
   ]
  },
  {
   "cell_type": "code",
   "execution_count": null,
   "metadata": {
    "collapsed": true
   },
   "outputs": [],
   "source": [
    "## Web scraping program with 20 second sleep time.\n",
    "## Consider using a smaller subset of data for scraping.\n",
    "\n",
    "##  Test URL https://www.similarweb.com/website/shotput.com#overview \n",
    "\n",
    "## Splinter documenation:\n",
    "## https://github.com/douglasmiranda/splinter-examples/blob/master/another_examples/screenshot.py\n",
    "## http://splinter.readthedocs.io/en/latest/tutorial.html\n",
    "\n",
    "## BeautifulSoup Documentation:\n",
    "## https://www.crummy.com/software/BeautifulSoup/bs4/doc\n",
    "\n",
    "\n",
    "# from splinter import Browser\n",
    "# import csv\n",
    "# from bs4 import BeautifulSoup \n",
    "# import time\n",
    "\n",
    "# # browser = Browser('chrome')\n",
    "# # browser = Browser('firefox')\n",
    "\n",
    "# with Browser() as browser:\n",
    "#     # Visit URL\n",
    "#     url1 = \"https://www.similarweb.com/website/\" \n",
    "#     url_suffix = \"#overview\"\n",
    "    \n",
    "#     # loop thru the urls top_orgs data frame \n",
    "#     counter = 0\n",
    "#     for index, row in top_orgs.iterrows():\n",
    "#         url = \"\"\n",
    "#         #print(type(row[\"Homepage\"]))\n",
    "#         url2 = row[\"Homepage\"].split('/')\n",
    "#         if len(url2) > 2:\n",
    "#             counter += 1\n",
    "#             url = url1 + url2[2] + url_suffix\n",
    "#             print(\"url counter: \", counter,end=\" - \")\n",
    "#             print(url)\n",
    "        \n",
    "#             try:\n",
    "#                 browser.visit(url)\n",
    "#                 time.sleep(20)\n",
    "#                 html = browser.html\n",
    "#                 soup = BeautifulSoup(html, \"html.parser\")\n",
    "            \n",
    "#                 #print(soup.prettify())\n",
    "   \n",
    "#                 count = 0\n",
    "#                 # Grab the 4 activity stats from the html \n",
    "#                 for line in soup.findAll('span',class_=\"engagementInfo-valueNumber js-countValue\"):\n",
    "#                     print(line.get_text())\n",
    "#                     count += 1\n",
    "#                     # Write to a data frame\n",
    "#                     if count == 1:\n",
    "#                         top_orgs.set_value(index, \"Total Visits\", line.getText())\n",
    "#                     elif count == 2:\n",
    "#                         top_orgs.set_value(index, \"Avg Visit Duration\", line.getText())\n",
    "#                     elif count == 3:\n",
    "#                         top_orgs.set_value(index, \"Pages Per Visit\", line.getText())\n",
    "#                     else:\n",
    "#                         top_orgs.set_value(index, \"Bounce Rate\", line.getText())\n",
    "#             except:\n",
    "#                 print(\"Error with url: \", url)  \n",
    "# top_orgs\n",
    "# print(\"urls processed: \", counter)\n"
   ]
  },
  {
   "cell_type": "code",
   "execution_count": null,
   "metadata": {
    "collapsed": true
   },
   "outputs": [],
   "source": [
    "# Save Data to csv without index, with header\n",
    "#top_orgs.to_csv(\"screen_scrape_data.csv\", index=False, header=True)"
   ]
  },
  {
   "cell_type": "code",
   "execution_count": null,
   "metadata": {
    "collapsed": true
   },
   "outputs": [],
   "source": [
    "top_orgs.head(5)"
   ]
  },
  {
   "cell_type": "code",
   "execution_count": null,
   "metadata": {
    "collapsed": true
   },
   "outputs": [],
   "source": [
    "## Reload data to work with Screen scrape data without more scraping\n",
    "## Read file \n",
    "\n",
    "csv_file = \"screen_scrape_data.csv\"\n",
    "top_orgs = pd.read_csv(csv_file, encoding=\"iso-8859-1\", parse_dates=[\"Announced On Date\"])\n",
    "\n",
    "top_orgs[\"Money Raised\"] = top_orgs[\"Money Raised\"].replace('[\\$,]','', regex=True ).astype(np.int64)\n",
    "top_orgs[\"Homepage\"] = top_orgs[\"Homepage\"].replace(np.nan, '', regex=True)\n",
    "top_orgs[\"Total Visits\"] = top_orgs[\"Total Visits\"].replace(np.nan, '', regex=True)\n",
    "top_orgs[\"Avg Visit Duration\"] = top_orgs[\"Avg Visit Duration\"].replace(np.nan, '', regex=True)\n",
    "top_orgs[\"Pages Per Visit\"] = top_orgs[\"Pages Per Visit\"].replace(np.nan, '', regex=True)\n",
    "top_orgs[\"Bounce Rate\"] = top_orgs[\"Bounce Rate\"].replace(np.nan, '', regex=True)\n",
    "\n",
    "top_orgs.head(6)\n",
    "#top_orgs.dtypes"
   ]
  },
  {
   "cell_type": "code",
   "execution_count": null,
   "metadata": {
    "collapsed": true
   },
   "outputs": [],
   "source": [
    "# Remove rows we don't need to process\n",
    "top_orgs = top_orgs.loc[top_orgs[\"Total Visits\"]!= \"\",[\"Company\",\"Funding Type\",\n",
    "                           \"Money Raised\",\"Announced On Date\",\"Homepage\",\"Total Visits\",\n",
    "                           \"Avg Visit Duration\",\"Pages Per Visit\",\"Bounce Rate\"]]\n",
    "top_orgs.head(6)\n",
    "#top_orgs.dtypes"
   ]
  },
  {
   "cell_type": "code",
   "execution_count": null,
   "metadata": {
    "collapsed": true
   },
   "outputs": [],
   "source": [
    "## http://matplotlib.org/faq/howto_faq.html#plot-numpy-datetime64-values\n",
    "\n",
    "\n",
    "# Convert columns to usable data types\n",
    "top_orgs[\"Total Visits\"] = top_orgs[\"Total Visits\"].apply(lambda x: x.replace('[<>K]','', regex=True ).astype(np.float64)* 1000 if x.str.contains(\"K\") else x.replace('[<>M]','', regex=True ).astype(np.float64)* 1000000)                                         \n",
    "  \n",
    "#top_orgs[\"Total Visits\"].apply(lambda x: x.replace('[<>K]','', regex=True ).astype(np.float64)* 1000 if x.str.contains(\"K\") else x.replace('[<>M]','', regex=True ).astype(np.float64)* 1000000)                                         \n",
    "  \n",
    "    \n",
    "# top_orgs[\"Total Visits\"] = top_orgs[\"Total Visits\"].replace('[<>K]','',\n",
    "#                                                                 regex=True ).astype(np.int64)* 1000\n",
    "# .str.contains('M'):\n",
    "    \n",
    "# top_orgs[\"Total Visits\"] = top_orgs[\"Total Visits\"].replace('[<>M]','',\n",
    "#                                                  regex=True ).astype(np.int64)* 1000000\n",
    "\n",
    "# top_orgs[\"Avg Visit Duration\"] = pd.to_datetime(top_orgs[\"Avg Visit Duration\"],format=\"%H:%M:%S\")\n",
    "\n",
    "# top_orgs[\"Bounce Rate\"] = top_orgs[\"Bounce Rate\"].replace('[%]','', regex=True ).astype(np.float64)\n",
    "\n",
    "# top_orgs[\"Pages Per Visit\"] = top_orgs[\"Pages Per Visit\"].astype(np.float64)\n",
    "\n",
    "#top_orgs.dtypes\n",
    "\n",
    "\n",
    "\n",
    "top_orgs.head(5)"
   ]
  },
  {
   "cell_type": "code",
   "execution_count": null,
   "metadata": {
    "collapsed": true
   },
   "outputs": [],
   "source": [
    "# top_orgs[\"Avg Visit Duration\"] = pd.to_datetime(top_orgs[\"Avg Visit Duration\"], format=\"%H:%M:%S\").dt.time\n",
    "# import datetime as dt  dt=datetime.strptime(start,\"%H:%M:%S\").time()\n",
    "# import re  line = re.sub('[!@#$]', '', line)\n",
    "\n",
    "\n",
    "# top_orgs[\"Total Visits\"] = top_orgs[\"Total Visits\"].replace('[<>K]','', regex=True ) \\\n",
    "# .astype(np.int32) * 1000\n",
    "\n",
    "# #top_orgs[\"Avg Visit Duration\"] = pd.to_datetime(top_orgs[\"Avg Visit Duration\"],format=\"%H:%M:%S\")\n",
    "\n",
    "# top_orgs[\"Bounce Rate\"] = top_orgs[\"Bounce Rate\"].replace('[%]','', regex=True ).astype(np.float64)\n",
    "\n",
    "# top_orgs[\"Pages Per Visit\"] = top_orgs[\"Pages Per Visit\"].astype(np.float64)\n",
    "# top_orgs\n"
   ]
  },
  {
   "cell_type": "code",
   "execution_count": null,
   "metadata": {
    "collapsed": true
   },
   "outputs": [],
   "source": []
  },
  {
   "cell_type": "code",
   "execution_count": null,
   "metadata": {
    "collapsed": true
   },
   "outputs": [],
   "source": []
  }
 ],
 "metadata": {
  "kernelspec": {
   "display_name": "Python 3",
   "language": "python",
   "name": "python3"
  },
  "language_info": {
   "codemirror_mode": {
    "name": "ipython",
    "version": 3
   },
   "file_extension": ".py",
   "mimetype": "text/x-python",
   "name": "python",
   "nbconvert_exporter": "python",
   "pygments_lexer": "ipython3",
   "version": "3.6.1"
  }
 },
 "nbformat": 4,
 "nbformat_minor": 2
}
