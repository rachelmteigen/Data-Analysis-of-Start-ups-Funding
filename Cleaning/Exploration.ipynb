{
 "cells": [
  {
   "cell_type": "markdown",
   "metadata": {},
   "source": [
    "# CSV: The Big Checkout\n",
    "\n"
   ]
  },
  {
   "cell_type": "markdown",
   "metadata": {},
   "source": [
    "## `new_org.csv`"
   ]
  },
  {
   "cell_type": "markdown",
   "metadata": {},
   "source": [
    "We'll begin by loading up the contents of `new_org.csv` with Pandas. This is the least complicated of the CSVs we'll be working with."
   ]
  },
  {
   "cell_type": "code",
   "execution_count": 18,
   "metadata": {},
   "outputs": [],
   "source": [
    "from os import getcwd\n",
    "from os.path import join\n",
    "import pandas as pd\n",
    "data = pd.read_csv(join(getcwd(), '../data', 'new_org.csv'))"
   ]
  },
  {
   "cell_type": "markdown",
   "metadata": {},
   "source": [
    "Next, let's see: \n",
    "\n",
    "1. How many records we've got; and \n",
    "2. What the first few pieces of data look like"
   ]
  },
  {
   "cell_type": "code",
   "execution_count": 19,
   "metadata": {},
   "outputs": [
    {
     "name": "stdout",
     "output_type": "stream",
     "text": [
      "There are 497523 records in the data set.\n"
     ]
    },
    {
     "data": {
      "text/html": [
       "<div>\n",
       "<style>\n",
       "    .dataframe thead tr:only-child th {\n",
       "        text-align: right;\n",
       "    }\n",
       "\n",
       "    .dataframe thead th {\n",
       "        text-align: left;\n",
       "    }\n",
       "\n",
       "    .dataframe tbody tr th {\n",
       "        vertical-align: top;\n",
       "    }\n",
       "</style>\n",
       "<table border=\"1\" class=\"dataframe\">\n",
       "  <thead>\n",
       "    <tr style=\"text-align: right;\">\n",
       "      <th></th>\n",
       "      <th>UUID</th>\n",
       "      <th>Company</th>\n",
       "      <th>Homepage</th>\n",
       "    </tr>\n",
       "  </thead>\n",
       "  <tbody>\n",
       "    <tr>\n",
       "      <th>0</th>\n",
       "      <td>e1393508-30ea-8a36-3f96-dd3226033abd</td>\n",
       "      <td>Wetpaint</td>\n",
       "      <td>http://www.wetpaint.com/</td>\n",
       "    </tr>\n",
       "    <tr>\n",
       "      <th>1</th>\n",
       "      <td>bf4d7b0e-b34d-2fd8-d292-6049c4f7efc7</td>\n",
       "      <td>Zoho</td>\n",
       "      <td>https://www.zoho.com/</td>\n",
       "    </tr>\n",
       "    <tr>\n",
       "      <th>2</th>\n",
       "      <td>5f2b40b8-d1b3-d323-d81a-b7a8e89553d0</td>\n",
       "      <td>Digg</td>\n",
       "      <td>http://www.digg.com</td>\n",
       "    </tr>\n",
       "    <tr>\n",
       "      <th>3</th>\n",
       "      <td>f4d5ab44-058b-298b-ea81-380e6e9a8eec</td>\n",
       "      <td>Omidyar Network</td>\n",
       "      <td>http://www.omidyar.com</td>\n",
       "    </tr>\n",
       "    <tr>\n",
       "      <th>4</th>\n",
       "      <td>df662812-7f97-0b43-9d3e-12f64f504fbb</td>\n",
       "      <td>Facebook</td>\n",
       "      <td>http://www.facebook.com</td>\n",
       "    </tr>\n",
       "  </tbody>\n",
       "</table>\n",
       "</div>"
      ],
      "text/plain": [
       "                                   UUID          Company  \\\n",
       "0  e1393508-30ea-8a36-3f96-dd3226033abd         Wetpaint   \n",
       "1  bf4d7b0e-b34d-2fd8-d292-6049c4f7efc7             Zoho   \n",
       "2  5f2b40b8-d1b3-d323-d81a-b7a8e89553d0             Digg   \n",
       "3  f4d5ab44-058b-298b-ea81-380e6e9a8eec  Omidyar Network   \n",
       "4  df662812-7f97-0b43-9d3e-12f64f504fbb         Facebook   \n",
       "\n",
       "                   Homepage  \n",
       "0  http://www.wetpaint.com/  \n",
       "1     https://www.zoho.com/  \n",
       "2       http://www.digg.com  \n",
       "3    http://www.omidyar.com  \n",
       "4   http://www.facebook.com  "
      ]
     },
     "execution_count": 19,
     "metadata": {},
     "output_type": "execute_result"
    }
   ],
   "source": [
    "print(f'There are {len(data)} records in the data set.')\n",
    "\n",
    "data.head()"
   ]
  },
  {
   "cell_type": "markdown",
   "metadata": {},
   "source": [
    "## `companies.csv`"
   ]
  },
  {
   "cell_type": "markdown",
   "metadata": {},
   "source": [
    "Next, let's load and explore `companies.csv`."
   ]
  },
  {
   "cell_type": "code",
   "execution_count": 21,
   "metadata": {},
   "outputs": [
    {
     "name": "stdout",
     "output_type": "stream",
     "text": [
      "There are records for 8664 companies in companies.csv.\n"
     ]
    },
    {
     "data": {
      "text/html": [
       "<div>\n",
       "<style>\n",
       "    .dataframe thead tr:only-child th {\n",
       "        text-align: right;\n",
       "    }\n",
       "\n",
       "    .dataframe thead th {\n",
       "        text-align: left;\n",
       "    }\n",
       "\n",
       "    .dataframe tbody tr th {\n",
       "        vertical-align: top;\n",
       "    }\n",
       "</style>\n",
       "<table border=\"1\" class=\"dataframe\">\n",
       "  <thead>\n",
       "    <tr style=\"text-align: right;\">\n",
       "      <th></th>\n",
       "      <th>Company Name</th>\n",
       "      <th>Company Name URL</th>\n",
       "      <th>Category Groups</th>\n",
       "      <th>Headquarters Location</th>\n",
       "      <th>Description</th>\n",
       "      <th>Crunchbase Rank</th>\n",
       "      <th>Founded Date</th>\n",
       "      <th>Closed Date</th>\n",
       "      <th>Number of Funding Rounds</th>\n",
       "      <th>Last Funding Date</th>\n",
       "      <th>Last Funding Amount</th>\n",
       "      <th>Last Funding Type</th>\n",
       "      <th>Total Funding Amount</th>\n",
       "      <th>Status</th>\n",
       "    </tr>\n",
       "  </thead>\n",
       "  <tbody>\n",
       "    <tr>\n",
       "      <th>0</th>\n",
       "      <td>Wokrr</td>\n",
       "      <td>https://www.crunchbase.com/organization/wokrr</td>\n",
       "      <td>NaN</td>\n",
       "      <td>San Jose, California, United States</td>\n",
       "      <td>Wokrr is based in San Jose, California, United...</td>\n",
       "      <td>NaN</td>\n",
       "      <td>1/1/16</td>\n",
       "      <td>NaN</td>\n",
       "      <td>1</td>\n",
       "      <td>1/1/00</td>\n",
       "      <td>1111</td>\n",
       "      <td>Seed</td>\n",
       "      <td>1111</td>\n",
       "      <td>Closed</td>\n",
       "    </tr>\n",
       "    <tr>\n",
       "      <th>1</th>\n",
       "      <td>BUILT IMAGES</td>\n",
       "      <td>https://www.crunchbase.com/organization/hometica</td>\n",
       "      <td>Media and Entertainment, Real Estate, Content ...</td>\n",
       "      <td>San Clemente, California, United States</td>\n",
       "      <td>BUILT IMAGES stretches the imagination with Ri...</td>\n",
       "      <td>NaN</td>\n",
       "      <td>1/1/12</td>\n",
       "      <td>NaN</td>\n",
       "      <td>1</td>\n",
       "      <td>2/14/04</td>\n",
       "      <td>250000</td>\n",
       "      <td>Seed</td>\n",
       "      <td>250000</td>\n",
       "      <td>Operating</td>\n",
       "    </tr>\n",
       "    <tr>\n",
       "      <th>2</th>\n",
       "      <td>Dick or Bro</td>\n",
       "      <td>https://www.crunchbase.com/organization/dick-o...</td>\n",
       "      <td>Media and Entertainment, Internet Services</td>\n",
       "      <td>Los Angeles, California, United States</td>\n",
       "      <td>celebrity voting</td>\n",
       "      <td>54,374</td>\n",
       "      <td>1/1/12</td>\n",
       "      <td>NaN</td>\n",
       "      <td>1</td>\n",
       "      <td>1/1/11</td>\n",
       "      <td>150000</td>\n",
       "      <td>Seed</td>\n",
       "      <td>150000</td>\n",
       "      <td>Closed</td>\n",
       "    </tr>\n",
       "    <tr>\n",
       "      <th>3</th>\n",
       "      <td>StoryWorth</td>\n",
       "      <td>https://www.crunchbase.com/organization/storyw...</td>\n",
       "      <td>Internet Services</td>\n",
       "      <td>San Francisco, California, United States</td>\n",
       "      <td>StoryWorth makes it easy for people to private...</td>\n",
       "      <td>41,889</td>\n",
       "      <td>11/1/12</td>\n",
       "      <td>NaN</td>\n",
       "      <td>1</td>\n",
       "      <td>3/1/11</td>\n",
       "      <td>167000</td>\n",
       "      <td>Seed</td>\n",
       "      <td>167000</td>\n",
       "      <td>Operating</td>\n",
       "    </tr>\n",
       "    <tr>\n",
       "      <th>4</th>\n",
       "      <td>Ethonova</td>\n",
       "      <td>https://www.crunchbase.com/organization/ethonova</td>\n",
       "      <td>NaN</td>\n",
       "      <td>San Francisco, California, United States</td>\n",
       "      <td>Ethonova Inc is a corporation located in San F...</td>\n",
       "      <td>57,167</td>\n",
       "      <td>1/1/12</td>\n",
       "      <td>NaN</td>\n",
       "      <td>1</td>\n",
       "      <td>7/20/11</td>\n",
       "      <td>40000</td>\n",
       "      <td>Seed</td>\n",
       "      <td>40000</td>\n",
       "      <td>Operating</td>\n",
       "    </tr>\n",
       "  </tbody>\n",
       "</table>\n",
       "</div>"
      ],
      "text/plain": [
       "   Company Name                                   Company Name URL  \\\n",
       "0         Wokrr      https://www.crunchbase.com/organization/wokrr   \n",
       "1  BUILT IMAGES   https://www.crunchbase.com/organization/hometica   \n",
       "2   Dick or Bro  https://www.crunchbase.com/organization/dick-o...   \n",
       "3    StoryWorth  https://www.crunchbase.com/organization/storyw...   \n",
       "4      Ethonova   https://www.crunchbase.com/organization/ethonova   \n",
       "\n",
       "                                     Category Groups  \\\n",
       "0                                                NaN   \n",
       "1  Media and Entertainment, Real Estate, Content ...   \n",
       "2         Media and Entertainment, Internet Services   \n",
       "3                                  Internet Services   \n",
       "4                                                NaN   \n",
       "\n",
       "                      Headquarters Location  \\\n",
       "0       San Jose, California, United States   \n",
       "1   San Clemente, California, United States   \n",
       "2    Los Angeles, California, United States   \n",
       "3  San Francisco, California, United States   \n",
       "4  San Francisco, California, United States   \n",
       "\n",
       "                                         Description Crunchbase Rank  \\\n",
       "0  Wokrr is based in San Jose, California, United...             NaN   \n",
       "1  BUILT IMAGES stretches the imagination with Ri...             NaN   \n",
       "2                                   celebrity voting          54,374   \n",
       "3  StoryWorth makes it easy for people to private...          41,889   \n",
       "4  Ethonova Inc is a corporation located in San F...          57,167   \n",
       "\n",
       "  Founded Date Closed Date  Number of Funding Rounds Last Funding Date  \\\n",
       "0       1/1/16         NaN                         1            1/1/00   \n",
       "1       1/1/12         NaN                         1           2/14/04   \n",
       "2       1/1/12         NaN                         1            1/1/11   \n",
       "3      11/1/12         NaN                         1            3/1/11   \n",
       "4       1/1/12         NaN                         1           7/20/11   \n",
       "\n",
       "   Last Funding Amount Last Funding Type  Total Funding Amount     Status  \n",
       "0                 1111              Seed                  1111     Closed  \n",
       "1               250000              Seed                250000  Operating  \n",
       "2               150000              Seed                150000     Closed  \n",
       "3               167000              Seed                167000  Operating  \n",
       "4                40000              Seed                 40000  Operating  "
      ]
     },
     "execution_count": 21,
     "metadata": {},
     "output_type": "execute_result"
    }
   ],
   "source": [
    "filename = 'companies.csv'\n",
    "\n",
    "companies = pd.read_csv(join(getcwd(), '../data', filename), encoding = 'ISO-8859-1')\n",
    "print(f'There are records for {len(companies)} companies in {filename}.')\n",
    "\n",
    "companies.head()"
   ]
  },
  {
   "cell_type": "code",
   "execution_count": 16,
   "metadata": {},
   "outputs": [
    {
     "data": {
      "text/html": [
       "<div>\n",
       "<style>\n",
       "    .dataframe thead tr:only-child th {\n",
       "        text-align: right;\n",
       "    }\n",
       "\n",
       "    .dataframe thead th {\n",
       "        text-align: left;\n",
       "    }\n",
       "\n",
       "    .dataframe tbody tr th {\n",
       "        vertical-align: top;\n",
       "    }\n",
       "</style>\n",
       "<table border=\"1\" class=\"dataframe\">\n",
       "  <thead>\n",
       "    <tr style=\"text-align: right;\">\n",
       "      <th></th>\n",
       "      <th>Company Name</th>\n",
       "      <th>Company Name URL</th>\n",
       "      <th>Category Groups</th>\n",
       "      <th>Headquarters Location</th>\n",
       "      <th>Description</th>\n",
       "      <th>Crunchbase Rank</th>\n",
       "      <th>Founded Date</th>\n",
       "      <th>Closed Date</th>\n",
       "      <th>Number of Funding Rounds</th>\n",
       "      <th>Last Funding Date</th>\n",
       "      <th>Last Funding Amount</th>\n",
       "      <th>Last Funding Type</th>\n",
       "      <th>Total Funding Amount</th>\n",
       "      <th>Status</th>\n",
       "    </tr>\n",
       "  </thead>\n",
       "  <tbody>\n",
       "    <tr>\n",
       "      <th>41</th>\n",
       "      <td>Friendsignia</td>\n",
       "      <td>https://www.crunchbase.com/organization/friend...</td>\n",
       "      <td>Media and Entertainment, Information Technolog...</td>\n",
       "      <td>Memphis, Tennessee, United States</td>\n",
       "      <td>Friendsignia is a relationship management tool...</td>\n",
       "      <td>64,048</td>\n",
       "      <td>1/29/12</td>\n",
       "      <td>6/1/13</td>\n",
       "      <td>1</td>\n",
       "      <td>1/29/12</td>\n",
       "      <td>15000</td>\n",
       "      <td>Seed</td>\n",
       "      <td>15000</td>\n",
       "      <td>Closed</td>\n",
       "    </tr>\n",
       "    <tr>\n",
       "      <th>48</th>\n",
       "      <td>SupplySeeker.com</td>\n",
       "      <td>https://www.crunchbase.com/organization/supply...</td>\n",
       "      <td>Commerce and Shopping, Sales and Marketing</td>\n",
       "      <td>New York, New York, United States</td>\n",
       "      <td>SupplySeeker.com is an online platform that of...</td>\n",
       "      <td>60,908</td>\n",
       "      <td>2/1/12</td>\n",
       "      <td>11/1/13</td>\n",
       "      <td>1</td>\n",
       "      <td>2/1/12</td>\n",
       "      <td>100000</td>\n",
       "      <td>Seed</td>\n",
       "      <td>100000</td>\n",
       "      <td>Closed</td>\n",
       "    </tr>\n",
       "    <tr>\n",
       "      <th>64</th>\n",
       "      <td>Gaston Labs</td>\n",
       "      <td>https://www.crunchbase.com/organization/gaston...</td>\n",
       "      <td>Media and Entertainment, Content and Publishing</td>\n",
       "      <td>Palo Alto, California, United States</td>\n",
       "      <td>Gaston Labs is a video and photo sharing service.</td>\n",
       "      <td>51,410</td>\n",
       "      <td>1/1/12</td>\n",
       "      <td>2/1/13</td>\n",
       "      <td>1</td>\n",
       "      <td>3/1/12</td>\n",
       "      <td>100000</td>\n",
       "      <td>Seed</td>\n",
       "      <td>100000</td>\n",
       "      <td>Closed</td>\n",
       "    </tr>\n",
       "    <tr>\n",
       "      <th>66</th>\n",
       "      <td>Picklify</td>\n",
       "      <td>https://www.crunchbase.com/organization/picklify</td>\n",
       "      <td>Commerce and Shopping, Media and Entertainment...</td>\n",
       "      <td>Philadelphia, Pennsylvania, United States</td>\n",
       "      <td>Picklify personalizes the shopping experience ...</td>\n",
       "      <td>62,987</td>\n",
       "      <td>3/1/12</td>\n",
       "      <td>7/1/13</td>\n",
       "      <td>1</td>\n",
       "      <td>3/1/12</td>\n",
       "      <td>13000</td>\n",
       "      <td>Seed</td>\n",
       "      <td>13000</td>\n",
       "      <td>Closed</td>\n",
       "    </tr>\n",
       "    <tr>\n",
       "      <th>80</th>\n",
       "      <td>Osurv</td>\n",
       "      <td>https://www.crunchbase.com/organization/osurv</td>\n",
       "      <td>Data and Analytics, Design, Mobile</td>\n",
       "      <td>Los Angeles, California, United States</td>\n",
       "      <td>Osurv is a mobile survey platform that predict...</td>\n",
       "      <td>42,336</td>\n",
       "      <td>1/3/12</td>\n",
       "      <td>5/5/17</td>\n",
       "      <td>1</td>\n",
       "      <td>3/21/12</td>\n",
       "      <td>20000</td>\n",
       "      <td>Seed</td>\n",
       "      <td>20000</td>\n",
       "      <td>Was Acquired</td>\n",
       "    </tr>\n",
       "  </tbody>\n",
       "</table>\n",
       "</div>"
      ],
      "text/plain": [
       "        Company Name                                   Company Name URL  \\\n",
       "41      Friendsignia  https://www.crunchbase.com/organization/friend...   \n",
       "48  SupplySeeker.com  https://www.crunchbase.com/organization/supply...   \n",
       "64       Gaston Labs  https://www.crunchbase.com/organization/gaston...   \n",
       "66          Picklify   https://www.crunchbase.com/organization/picklify   \n",
       "80             Osurv      https://www.crunchbase.com/organization/osurv   \n",
       "\n",
       "                                      Category Groups  \\\n",
       "41  Media and Entertainment, Information Technolog...   \n",
       "48         Commerce and Shopping, Sales and Marketing   \n",
       "64    Media and Entertainment, Content and Publishing   \n",
       "66  Commerce and Shopping, Media and Entertainment...   \n",
       "80                 Data and Analytics, Design, Mobile   \n",
       "\n",
       "                        Headquarters Location  \\\n",
       "41          Memphis, Tennessee, United States   \n",
       "48          New York, New York, United States   \n",
       "64       Palo Alto, California, United States   \n",
       "66  Philadelphia, Pennsylvania, United States   \n",
       "80     Los Angeles, California, United States   \n",
       "\n",
       "                                          Description Crunchbase Rank  \\\n",
       "41  Friendsignia is a relationship management tool...          64,048   \n",
       "48  SupplySeeker.com is an online platform that of...          60,908   \n",
       "64  Gaston Labs is a video and photo sharing service.          51,410   \n",
       "66  Picklify personalizes the shopping experience ...          62,987   \n",
       "80  Osurv is a mobile survey platform that predict...          42,336   \n",
       "\n",
       "   Founded Date Closed Date  Number of Funding Rounds Last Funding Date  \\\n",
       "41      1/29/12      6/1/13                         1           1/29/12   \n",
       "48       2/1/12     11/1/13                         1            2/1/12   \n",
       "64       1/1/12      2/1/13                         1            3/1/12   \n",
       "66       3/1/12      7/1/13                         1            3/1/12   \n",
       "80       1/3/12      5/5/17                         1           3/21/12   \n",
       "\n",
       "    Last Funding Amount Last Funding Type  Total Funding Amount        Status  \n",
       "41                15000              Seed                 15000        Closed  \n",
       "48               100000              Seed                100000        Closed  \n",
       "64               100000              Seed                100000        Closed  \n",
       "66                13000              Seed                 13000        Closed  \n",
       "80                20000              Seed                 20000  Was Acquired  "
      ]
     },
     "execution_count": 16,
     "metadata": {},
     "output_type": "execute_result"
    }
   ],
   "source": [
    "# All DataFrames have a dropna method, which drops 'any' row containing NaN.\n",
    "df = companies.dropna(how='any')\n",
    "\n",
    "# Display updated DataFrame\n",
    "df.head()"
   ]
  },
  {
   "cell_type": "markdown",
   "metadata": {},
   "source": [
    "Take a look at the IDs in the far left. Clearly, `dropna` has thrown away some good data."
   ]
  },
  {
   "cell_type": "markdown",
   "metadata": {},
   "source": [
    "### Digging Into `companies.csv`\n",
    "\n",
    "We should start by calculating summary statistics around the columns **Number of Funding Rounds**, **Last Funding Amount**, **Last Funding Type**, **Total Funding Amount**, and **Status**, and maybe plotting a few Histograms to get a feel for things."
   ]
  },
  {
   "cell_type": "code",
   "execution_count": 40,
   "metadata": {},
   "outputs": [
    {
     "data": {
      "text/html": [
       "<div>\n",
       "<style>\n",
       "    .dataframe thead tr:only-child th {\n",
       "        text-align: right;\n",
       "    }\n",
       "\n",
       "    .dataframe thead th {\n",
       "        text-align: left;\n",
       "    }\n",
       "\n",
       "    .dataframe tbody tr th {\n",
       "        vertical-align: top;\n",
       "    }\n",
       "</style>\n",
       "<table border=\"1\" class=\"dataframe\">\n",
       "  <thead>\n",
       "    <tr style=\"text-align: right;\">\n",
       "      <th></th>\n",
       "      <th>Number of Funding Rounds</th>\n",
       "      <th>Last Funding Amount</th>\n",
       "      <th>Total Funding Amount</th>\n",
       "    </tr>\n",
       "  </thead>\n",
       "  <tbody>\n",
       "    <tr>\n",
       "      <th>count</th>\n",
       "      <td>8664.000000</td>\n",
       "      <td>8.664000e+03</td>\n",
       "      <td>8.664000e+03</td>\n",
       "    </tr>\n",
       "    <tr>\n",
       "      <th>mean</th>\n",
       "      <td>1.812327</td>\n",
       "      <td>5.297919e+06</td>\n",
       "      <td>8.082858e+06</td>\n",
       "    </tr>\n",
       "    <tr>\n",
       "      <th>std</th>\n",
       "      <td>1.173451</td>\n",
       "      <td>1.911279e+07</td>\n",
       "      <td>3.216522e+07</td>\n",
       "    </tr>\n",
       "    <tr>\n",
       "      <th>min</th>\n",
       "      <td>1.000000</td>\n",
       "      <td>1.000000e+03</td>\n",
       "      <td>1.000000e+03</td>\n",
       "    </tr>\n",
       "    <tr>\n",
       "      <th>25%</th>\n",
       "      <td>1.000000</td>\n",
       "      <td>1.500000e+05</td>\n",
       "      <td>2.000000e+05</td>\n",
       "    </tr>\n",
       "    <tr>\n",
       "      <th>50%</th>\n",
       "      <td>1.000000</td>\n",
       "      <td>1.000000e+06</td>\n",
       "      <td>1.225000e+06</td>\n",
       "    </tr>\n",
       "    <tr>\n",
       "      <th>75%</th>\n",
       "      <td>2.000000</td>\n",
       "      <td>4.000000e+06</td>\n",
       "      <td>5.000000e+06</td>\n",
       "    </tr>\n",
       "    <tr>\n",
       "      <th>max</th>\n",
       "      <td>12.000000</td>\n",
       "      <td>9.000000e+08</td>\n",
       "      <td>1.704000e+09</td>\n",
       "    </tr>\n",
       "  </tbody>\n",
       "</table>\n",
       "</div>"
      ],
      "text/plain": [
       "       Number of Funding Rounds  Last Funding Amount  Total Funding Amount\n",
       "count               8664.000000         8.664000e+03          8.664000e+03\n",
       "mean                   1.812327         5.297919e+06          8.082858e+06\n",
       "std                    1.173451         1.911279e+07          3.216522e+07\n",
       "min                    1.000000         1.000000e+03          1.000000e+03\n",
       "25%                    1.000000         1.500000e+05          2.000000e+05\n",
       "50%                    1.000000         1.000000e+06          1.225000e+06\n",
       "75%                    2.000000         4.000000e+06          5.000000e+06\n",
       "max                   12.000000         9.000000e+08          1.704000e+09"
      ]
     },
     "execution_count": 40,
     "metadata": {},
     "output_type": "execute_result"
    }
   ],
   "source": [
    "# Describe quickly produces good output for numerical data\n",
    "companies.describe()"
   ]
  },
  {
   "cell_type": "code",
   "execution_count": 64,
   "metadata": {},
   "outputs": [
    {
     "name": "stdout",
     "output_type": "stream",
     "text": [
      "The 8664 companies in the data set are distributed amongst 914 unique locations.\n",
      "The most common of these locations are:\n",
      "- 1475 startups are located in San Francisco, California, United States.\n",
      "- 1079 startups are located in New York, New York, United States.\n",
      "- 279 startups are located in Los Angeles, California, United States.\n",
      "- 249 startups are located in Palo Alto, California, United States.\n",
      "- 204 startups are located in Boston, Massachusetts, United States.\n",
      "- 192 startups are located in Chicago, Illinois, United States.\n",
      "- 183 startups are located in Austin, Texas, United States.\n",
      "- 182 startups are located in Seattle, Washington, United States.\n",
      "- 149 startups are located in Mountain View, California, United States.\n",
      "- 133 startups are located in San Diego, California, United States.\n"
     ]
    }
   ],
   "source": [
    "# Let's take a look at the most common locations\n",
    "from collections import Counter\n",
    "\n",
    "counter = Counter(companies['Headquarters Location'])\n",
    "print(f'The {len(companies)} companies in the data set are distributed amongst {len(counter)} unique locations.')\n",
    "print('The most common of these locations are:')\n",
    "\n",
    "for location in counter.most_common(10):\n",
    "    (city_state, count) = location\n",
    "    print(f'- {count} startups are located in {city_state}.')"
   ]
  },
  {
   "cell_type": "code",
   "execution_count": 75,
   "metadata": {},
   "outputs": [
    {
     "name": "stdout",
     "output_type": "stream",
     "text": [
      "There are 4 possible statuses for a start up: dict_keys(['Closed', 'Operating', 'Was Acquired', 'IPO']).\n",
      "There are 253 start ups with status 'Closed' in your data set.\n",
      "There are 7922 start ups with status 'Operating' in your data set.\n",
      "There are 466 start ups with status 'Was Acquired' in your data set.\n",
      "There are 23 start ups with status 'IPO' in your data set.\n"
     ]
    }
   ],
   "source": [
    "# Let's count statuses, as well\n",
    "counter = Counter(companies['Status'])\n",
    "\n",
    "print(f'There are {len(counter)} possible statuses for a start up: {counter.keys()}.')\n",
    "\n",
    "for count in counter.items():\n",
    "    status, count = count\n",
    "    print(f'There are {count} start ups with status \\'{status}\\' in your data set.')"
   ]
  },
  {
   "cell_type": "markdown",
   "metadata": {},
   "source": [
    "Already, it's worth asking: Does this jive with what we expect? \n",
    "\n",
    "I'd say **yes**. These numbers seem to mesh with intuition: A huge density of start ups on the West Coast, with the major exceptions in NYC, Chicago, and Austin is bang-on. Obviously, this has just been a very cursory look, but the data seems credulous.\n",
    "\n",
    "Some obvious geographical questions arise immediately: Does location predict Total or Last Funding Amount?\n",
    "\n",
    "Alternatively, we could search for patterns in Funding amounts and **Category Groups**, which might yield insight into consumer interests at the national level. \n",
    "\n",
    "A more detailed analysis of the Date columns might reveal trends in _investor_ behavior. I'm curious: During what months are start-ups most likely to receive funding? Put differently: During what months are investors most likely to bite? What about spending habits—do the seasons seem to correlate with funding amounts? [Moods do](https://en.wikipedia.org/wiki/Seasonal_affective_disorder)—investment behavior might, too.\n",
    "\n",
    "We can come back to this later. For now, I feel comfortable with the data in this file, and I have some ideas as to what we can do with it. On to the next one."
   ]
  },
  {
   "cell_type": "markdown",
   "metadata": {},
   "source": [
    "## Exploring `funding_rounds.csv`\n",
    "\n",
    "As before, let's import and explore `funding_rounds.csv`."
   ]
  },
  {
   "cell_type": "code",
   "execution_count": 80,
   "metadata": {},
   "outputs": [
    {
     "name": "stdout",
     "output_type": "stream",
     "text": [
      "There are 10901 records in funding_rounds.csv.\n"
     ]
    },
    {
     "data": {
      "text/html": [
       "<div>\n",
       "<style>\n",
       "    .dataframe thead tr:only-child th {\n",
       "        text-align: right;\n",
       "    }\n",
       "\n",
       "    .dataframe thead th {\n",
       "        text-align: left;\n",
       "    }\n",
       "\n",
       "    .dataframe tbody tr th {\n",
       "        vertical-align: top;\n",
       "    }\n",
       "</style>\n",
       "<table border=\"1\" class=\"dataframe\">\n",
       "  <thead>\n",
       "    <tr style=\"text-align: right;\">\n",
       "      <th></th>\n",
       "      <th>Company Name</th>\n",
       "      <th>Company Name URL</th>\n",
       "      <th>Funding Type</th>\n",
       "      <th>Money Raised</th>\n",
       "      <th>Announced On Date</th>\n",
       "    </tr>\n",
       "  </thead>\n",
       "  <tbody>\n",
       "    <tr>\n",
       "      <th>0</th>\n",
       "      <td>TestMetal</td>\n",
       "      <td>https://www.crunchbase.com/organization/testmetal</td>\n",
       "      <td>Series A</td>\n",
       "      <td>690000</td>\n",
       "      <td>7/10/15</td>\n",
       "    </tr>\n",
       "    <tr>\n",
       "      <th>1</th>\n",
       "      <td>WinApp Inc</td>\n",
       "      <td>https://www.crunchbase.com/organization/winapp...</td>\n",
       "      <td>Seed</td>\n",
       "      <td>2000000</td>\n",
       "      <td>10/30/15</td>\n",
       "    </tr>\n",
       "    <tr>\n",
       "      <th>2</th>\n",
       "      <td>Cambly</td>\n",
       "      <td>https://www.crunchbase.com/organization/cambly</td>\n",
       "      <td>Seed</td>\n",
       "      <td>7000000</td>\n",
       "      <td>9/1/16</td>\n",
       "    </tr>\n",
       "    <tr>\n",
       "      <th>3</th>\n",
       "      <td>Goboxi</td>\n",
       "      <td>https://www.crunchbase.com/organization/goboxi</td>\n",
       "      <td>Seed</td>\n",
       "      <td>3000000</td>\n",
       "      <td>12/6/13</td>\n",
       "    </tr>\n",
       "    <tr>\n",
       "      <th>4</th>\n",
       "      <td>KaChing!</td>\n",
       "      <td>https://www.crunchbase.com/organization/kachin...</td>\n",
       "      <td>Seed</td>\n",
       "      <td>30000000</td>\n",
       "      <td>2/24/17</td>\n",
       "    </tr>\n",
       "  </tbody>\n",
       "</table>\n",
       "</div>"
      ],
      "text/plain": [
       "  Company Name                                   Company Name URL  \\\n",
       "0    TestMetal  https://www.crunchbase.com/organization/testmetal   \n",
       "1   WinApp Inc  https://www.crunchbase.com/organization/winapp...   \n",
       "2       Cambly     https://www.crunchbase.com/organization/cambly   \n",
       "3       Goboxi     https://www.crunchbase.com/organization/goboxi   \n",
       "4     KaChing!  https://www.crunchbase.com/organization/kachin...   \n",
       "\n",
       "  Funding Type  Money Raised Announced On Date  \n",
       "0     Series A        690000           7/10/15  \n",
       "1         Seed       2000000          10/30/15  \n",
       "2         Seed       7000000            9/1/16  \n",
       "3         Seed       3000000           12/6/13  \n",
       "4         Seed      30000000           2/24/17  "
      ]
     },
     "execution_count": 80,
     "metadata": {},
     "output_type": "execute_result"
    }
   ],
   "source": [
    "funding_rounds = pd.read_csv(join(getcwd(), '../../', 'funding_rounds.csv'), encoding='ISO-8859-1')\n",
    "\n",
    "print(f'There are {len(funding_rounds)} records in funding_rounds.csv.')\n",
    "\n",
    "funding_rounds.head()"
   ]
  },
  {
   "cell_type": "markdown",
   "metadata": {},
   "source": [
    "This is promising from the start. Obviously, we'll start with basic descriptive stats."
   ]
  },
  {
   "cell_type": "code",
   "execution_count": 81,
   "metadata": {},
   "outputs": [
    {
     "data": {
      "text/html": [
       "<div>\n",
       "<style>\n",
       "    .dataframe thead tr:only-child th {\n",
       "        text-align: right;\n",
       "    }\n",
       "\n",
       "    .dataframe thead th {\n",
       "        text-align: left;\n",
       "    }\n",
       "\n",
       "    .dataframe tbody tr th {\n",
       "        vertical-align: top;\n",
       "    }\n",
       "</style>\n",
       "<table border=\"1\" class=\"dataframe\">\n",
       "  <thead>\n",
       "    <tr style=\"text-align: right;\">\n",
       "      <th></th>\n",
       "      <th>Money Raised</th>\n",
       "    </tr>\n",
       "  </thead>\n",
       "  <tbody>\n",
       "    <tr>\n",
       "      <th>count</th>\n",
       "      <td>1.090100e+04</td>\n",
       "    </tr>\n",
       "    <tr>\n",
       "      <th>mean</th>\n",
       "      <td>7.172944e+06</td>\n",
       "    </tr>\n",
       "    <tr>\n",
       "      <th>std</th>\n",
       "      <td>2.398095e+07</td>\n",
       "    </tr>\n",
       "    <tr>\n",
       "      <th>min</th>\n",
       "      <td>1.000000e+03</td>\n",
       "    </tr>\n",
       "    <tr>\n",
       "      <th>25%</th>\n",
       "      <td>2.908700e+05</td>\n",
       "    </tr>\n",
       "    <tr>\n",
       "      <th>50%</th>\n",
       "      <td>2.000000e+06</td>\n",
       "    </tr>\n",
       "    <tr>\n",
       "      <th>75%</th>\n",
       "      <td>6.300000e+06</td>\n",
       "    </tr>\n",
       "    <tr>\n",
       "      <th>max</th>\n",
       "      <td>9.460000e+08</td>\n",
       "    </tr>\n",
       "  </tbody>\n",
       "</table>\n",
       "</div>"
      ],
      "text/plain": [
       "       Money Raised\n",
       "count  1.090100e+04\n",
       "mean   7.172944e+06\n",
       "std    2.398095e+07\n",
       "min    1.000000e+03\n",
       "25%    2.908700e+05\n",
       "50%    2.000000e+06\n",
       "75%    6.300000e+06\n",
       "max    9.460000e+08"
      ]
     },
     "execution_count": 81,
     "metadata": {},
     "output_type": "execute_result"
    }
   ],
   "source": [
    "funding_rounds.describe()"
   ]
  },
  {
   "cell_type": "markdown",
   "metadata": {},
   "source": [
    "Not _super_ helpful. \n",
    "\n",
    "Let's examine the **Money Raised** column."
   ]
  },
  {
   "cell_type": "code",
   "execution_count": 84,
   "metadata": {},
   "outputs": [
    {
     "name": "stdout",
     "output_type": "stream",
     "text": [
      "On average, startups raise $7172944.072929089.\n"
     ]
    }
   ],
   "source": [
    "mean_funding = funding_rounds['Money Raised'].mean()\n",
    "print(f'On average, startups raise ${mean_funding}.')"
   ]
  },
  {
   "cell_type": "markdown",
   "metadata": {},
   "source": [
    "Interesting, but not quite exciting enough to qualify as an article headline. Let's take a look at trends in the Series type."
   ]
  },
  {
   "cell_type": "code",
   "execution_count": 90,
   "metadata": {},
   "outputs": [
    {
     "data": {
      "text/plain": [
       "[('Seed', 6565),\n",
       " ('Series A', 2969),\n",
       " ('Series B', 1045),\n",
       " ('Series C', 263),\n",
       " ('Series D', 59)]"
      ]
     },
     "execution_count": 90,
     "metadata": {},
     "output_type": "execute_result"
    }
   ],
   "source": [
    "series_counter = Counter(funding_rounds['Funding Type'])\n",
    "series_counter.most_common()"
   ]
  },
  {
   "cell_type": "markdown",
   "metadata": {},
   "source": [
    "On the bright side, this matches intution. But, it still doesn't help marketing.\n",
    "\n",
    "What about the proportion of money awarded in Seed vs Other rounds?"
   ]
  },
  {
   "cell_type": "code",
   "execution_count": 103,
   "metadata": {},
   "outputs": [
    {
     "name": "stdout",
     "output_type": "stream",
     "text": [
      "Seed funding accounted for 11.59020171945812% of all awards in the data set.\n"
     ]
    }
   ],
   "source": [
    "seed_rounds = funding_rounds.loc[funding_rounds['Funding Type'] == 'Seed']\n",
    "seed_total = seed_rounds['Money Raised'].sum()\n",
    "gross_total = funding_rounds['Money Raised'].sum()\n",
    "proportion_of_total = seed_total / gross_total * 100\n",
    "\n",
    "print(f'Seed funding accounted for {proportion_of_total}% of all awards in the data set.')"
   ]
  },
  {
   "cell_type": "code",
   "execution_count": null,
   "metadata": {
    "collapsed": true
   },
   "outputs": [],
   "source": [
    "Hm. Feels a tad low. Let's inspect a little more."
   ]
  },
  {
   "cell_type": "code",
   "execution_count": 118,
   "metadata": {},
   "outputs": [
    {
     "name": "stdout",
     "output_type": "stream",
     "text": [
      "Funding for Seed Rounds accounted for $90626.4105 million, or 11.59020171945812% of all money awarded.\n",
      "Funding for Series A Rounds accounted for $286560.61632 million, or 36.64820585607374% of all money awarded.\n",
      "Funding for Series B Rounds accounted for $236135.10849 million, or 30.199293178948405% of all money awarded.\n",
      "Funding for Series C Rounds accounted for $116482.99808 million, or 14.89699787496773% of all money awarded.\n",
      "Funding for Series D Rounds accounted for $52117.5 million, or 6.6653013705520054% of all money awarded.\n"
     ]
    }
   ],
   "source": [
    "funding_types = ['Seed', 'Series A', 'Series B', 'Series C', 'Series D']\n",
    "\n",
    "totals = {}\n",
    "for funding_type in funding_types:\n",
    "    type_frame = funding_rounds.loc[funding_rounds['Funding Type'] == funding_type]\n",
    "    totals[funding_type] = type_frame['Money Raised'].sum()\n",
    "             \n",
    "MILLION = 100000\n",
    "for type, sum in totals.items():\n",
    "    sum /= MILLION\n",
    "    percent_total = sum / (gross_total / MILLION) * 100\n",
    "    print(f'Funding for {type} Rounds accounted for ${sum} million, or {percent_total}% of all money awarded.')"
   ]
  },
  {
   "cell_type": "markdown",
   "metadata": {},
   "source": [
    "There's an interesting pattern: The majority of investment dollars are doled out between **Series A and B** rounds. Sensible enough.\n",
    "\n",
    "Also interesting is the fact that the distribution looks _maaaybe_ [Poissonian](https://en.wikipedia.org/wiki/Poisson_distribution)."
   ]
  },
  {
   "cell_type": "code",
   "execution_count": 146,
   "metadata": {},
   "outputs": [
    {
     "data": {
      "text/plain": [
       "<matplotlib.axes._subplots.AxesSubplot at 0x26057dcd400>"
      ]
     },
     "execution_count": 146,
     "metadata": {},
     "output_type": "execute_result"
    },
    {
     "data": {
      "image/png": "[encoded data removed]",
      "text/plain": [
       "<matplotlib.figure.Figure at 0x26058dee0f0>"
      ]
     },
     "metadata": {},
     "output_type": "display_data"
    }
   ],
   "source": [
    "%matplotlib inline\n",
    "pd.Series(list(totals.values())).plot(kind='line')"
   ]
  }
 ],
 "metadata": {
  "anaconda-cloud": {},
  "kernelspec": {
   "display_name": "Python 3",
   "language": "python",
   "name": "python3"
  },
  "language_info": {
   "codemirror_mode": {
    "name": "ipython",
    "version": 3
   },
   "file_extension": ".py",
   "mimetype": "text/x-python",
   "name": "python",
   "nbconvert_exporter": "python",
   "pygments_lexer": "ipython3",
   "version": "3.6.1"
  }
 },
 "nbformat": 4,
 "nbformat_minor": 1
}
